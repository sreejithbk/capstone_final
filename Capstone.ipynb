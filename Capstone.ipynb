{
 "cells": [
  {
   "cell_type": "markdown",
   "metadata": {
    "collapsed": true
   },
   "source": [
    "# THE BATTLE OF NEIGHBORHOODS"
   ]
  },
  {
   "cell_type": "markdown",
   "metadata": {},
   "source": [
    "# Introduction:"
   ]
  },
  {
   "cell_type": "markdown",
   "metadata": {},
   "source": [
    "New York City's is busiest city in the world with highly populated diverse ethnics. With this project we want to list out major bakers through out and its neighborhood.\n",
    "We will list and visualize all well rated bakers in New York."
   ]
  },
  {
   "cell_type": "markdown",
   "metadata": {},
   "source": [
    "# Data:"
   ]
  },
  {
   "cell_type": "markdown",
   "metadata": {},
   "source": [
    "For this project we need the following data:\n",
    "1. New York City data that contains list Boroughs, Neighborhoods along with their latitude and longitude.\n",
    "2. Bakers in each neighborhood of new york city using FourSquare API.\n",
    "3. GeoSpace data"
   ]
  },
  {
   "cell_type": "markdown",
   "metadata": {},
   "source": [
    "## Questions that will be answers at the end of this project :"
   ]
  },
  {
   "cell_type": "markdown",
   "metadata": {},
   "source": [
    "### 1. What are best location in New York City for Bakers?\n",
    "### 2. Which areas have potential Bakers?\n",
    "### 3. Which all areas lack Bakers?\n",
    "### 4. Which is the best place to stay if you Bakers?"
   ]
  },
  {
   "cell_type": "markdown",
   "metadata": {},
   "source": [
    "# Methodology:"
   ]
  },
  {
   "cell_type": "raw",
   "metadata": {},
   "source": [
    "1. We begin by collecting the New York city data from \"https://cocl.us/new_york_dataset\".\n",
    "2. We will find all venues for each neighborhood using FourSquare API.\n",
    "3. We will then filter out all bakery venues.\n",
    "4. Next using FourSquare API, we will find the Ratings, Tips, and Like count for all the bakery.\n",
    "5. Next we will sort the data keeping Ratings as the constraint.\n",
    "6. Finally, we will visualize the Ranking of neighborhoods using python's Folium library."
   ]
  },
  {
   "cell_type": "markdown",
   "metadata": {},
   "source": [
    "Lets Start by importing the required Libraries."
   ]
  },
  {
   "cell_type": "code",
   "execution_count": 1,
   "metadata": {},
   "outputs": [
    {
     "name": "stdout",
     "output_type": "stream",
     "text": [
      "Requirement already satisfied: geocoder in d:\\anaconda3\\lib\\site-packages (1.38.1)\n",
      "Requirement already satisfied: requests in d:\\anaconda3\\lib\\site-packages (from geocoder) (2.22.0)\n",
      "Requirement already satisfied: click in d:\\anaconda3\\lib\\site-packages (from geocoder) (7.0)\n",
      "Requirement already satisfied: future in d:\\anaconda3\\lib\\site-packages (from geocoder) (0.18.2)\n",
      "Requirement already satisfied: ratelim in d:\\anaconda3\\lib\\site-packages (from geocoder) (0.1.6)\n",
      "Requirement already satisfied: six in d:\\anaconda3\\lib\\site-packages (from geocoder) (1.14.0)\n",
      "Requirement already satisfied: urllib3!=1.25.0,!=1.25.1,<1.26,>=1.21.1 in d:\\anaconda3\\lib\\site-packages (from requests->geocoder) (1.25.8)\n",
      "Requirement already satisfied: idna<2.9,>=2.5 in d:\\anaconda3\\lib\\site-packages (from requests->geocoder) (2.8)\n",
      "Requirement already satisfied: certifi>=2017.4.17 in d:\\anaconda3\\lib\\site-packages (from requests->geocoder) (2019.11.28)\n",
      "Requirement already satisfied: chardet<3.1.0,>=3.0.2 in d:\\anaconda3\\lib\\site-packages (from requests->geocoder) (3.0.4)\n",
      "Requirement already satisfied: decorator in d:\\anaconda3\\lib\\site-packages (from ratelim->geocoder) (4.4.1)\n",
      "Requirement already satisfied: folium in d:\\anaconda3\\lib\\site-packages (0.11.0)\n",
      "Requirement already satisfied: requests in d:\\anaconda3\\lib\\site-packages (from folium) (2.22.0)\n",
      "Requirement already satisfied: branca>=0.3.0 in d:\\anaconda3\\lib\\site-packages (from folium) (0.4.1)\n",
      "Requirement already satisfied: jinja2>=2.9 in d:\\anaconda3\\lib\\site-packages (from folium) (2.11.1)\n",
      "Requirement already satisfied: numpy in d:\\anaconda3\\lib\\site-packages (from folium) (1.18.1)\n",
      "Requirement already satisfied: chardet<3.1.0,>=3.0.2 in d:\\anaconda3\\lib\\site-packages (from requests->folium) (3.0.4)\n",
      "Requirement already satisfied: urllib3!=1.25.0,!=1.25.1,<1.26,>=1.21.1 in d:\\anaconda3\\lib\\site-packages (from requests->folium) (1.25.8)\n",
      "Requirement already satisfied: certifi>=2017.4.17 in d:\\anaconda3\\lib\\site-packages (from requests->folium) (2019.11.28)\n",
      "Requirement already satisfied: idna<2.9,>=2.5 in d:\\anaconda3\\lib\\site-packages (from requests->folium) (2.8)\n",
      "Requirement already satisfied: MarkupSafe>=0.23 in d:\\anaconda3\\lib\\site-packages (from jinja2>=2.9->folium) (1.1.1)\n",
      "Libraries imported.\n"
     ]
    }
   ],
   "source": [
    "import pandas as pd\n",
    "import numpy as np\n",
    "pd.set_option('display.max_columns', None)\n",
    "pd.set_option('display.max_rows', None)\n",
    "import requests\n",
    "from bs4 import BeautifulSoup\n",
    "!pip install geocoder\n",
    "import geocoder\n",
    "import os\n",
    "!pip install folium\n",
    "import folium # map rendering library\n",
    "from geopy.geocoders import Nominatim # convert an address into latitude and longitude values\n",
    "# Matplotlib and associated plotting modules\n",
    "import matplotlib.pyplot as plt\n",
    "import matplotlib.cm as cm\n",
    "import matplotlib.colors as colors\n",
    "%matplotlib inline\n",
    "\n",
    "\n",
    "print('Libraries imported.')"
   ]
  },
  {
   "cell_type": "code",
   "execution_count": 2,
   "metadata": {},
   "outputs": [
    {
     "name": "stdout",
     "output_type": "stream",
     "text": [
      "Requirement already satisfied: geopy in d:\\anaconda3\\lib\\site-packages (2.0.0)\n",
      "Requirement already satisfied: geographiclib<2,>=1.49 in d:\\anaconda3\\lib\\site-packages (from geopy) (1.50)\n",
      "Collecting package metadata (current_repodata.json): ...working... done\n",
      "Solving environment: ...working... done\n",
      "\n",
      "## Package Plan ##\n",
      "\n",
      "  environment location: D:\\anaconda3\n",
      "\n",
      "  added / updated specs:\n",
      "    - folium=0.5.0\n",
      "\n",
      "\n",
      "The following packages will be downloaded:\n",
      "\n",
      "    package                    |            build\n",
      "    ---------------------------|-----------------\n",
      "    conda-4.8.4                |   py37hc8dfbb8_2         3.1 MB  conda-forge\n",
      "    ------------------------------------------------------------\n",
      "                                           Total:         3.1 MB\n",
      "\n",
      "The following packages will be UPDATED:\n",
      "\n",
      "  conda                                4.8.3-py37hc8dfbb8_1 --> 4.8.4-py37hc8dfbb8_2\n",
      "\n",
      "\n",
      "\n",
      "Downloading and Extracting Packages\n",
      "\n",
      "conda-4.8.4          | 3.1 MB    |            |   0% \n",
      "conda-4.8.4          | 3.1 MB    |            |   1% \n",
      "conda-4.8.4          | 3.1 MB    | 2          |   2% \n",
      "conda-4.8.4          | 3.1 MB    | 3          |   4% \n",
      "conda-4.8.4          | 3.1 MB    | 4          |   4% \n",
      "conda-4.8.4          | 3.1 MB    | 8          |   8% \n",
      "conda-4.8.4          | 3.1 MB    | 9          |   9% \n",
      "conda-4.8.4          | 3.1 MB    | #          |  10% \n",
      "conda-4.8.4          | 3.1 MB    | #3         |  14% \n",
      "conda-4.8.4          | 3.1 MB    | #4         |  14% \n",
      "conda-4.8.4          | 3.1 MB    | #4         |  15% \n",
      "conda-4.8.4          | 3.1 MB    | #5         |  15% \n",
      "conda-4.8.4          | 3.1 MB    | #6         |  17% \n",
      "conda-4.8.4          | 3.1 MB    | ##         |  20% \n",
      "conda-4.8.4          | 3.1 MB    | ##1        |  22% \n",
      "conda-4.8.4          | 3.1 MB    | ##2        |  23% \n",
      "conda-4.8.4          | 3.1 MB    | ##4        |  24% \n",
      "conda-4.8.4          | 3.1 MB    | ###        |  31% \n",
      "conda-4.8.4          | 3.1 MB    | ###2       |  33% \n",
      "conda-4.8.4          | 3.1 MB    | ###6       |  37% \n",
      "conda-4.8.4          | 3.1 MB    | ###9       |  39% \n",
      "conda-4.8.4          | 3.1 MB    | ####       |  41% \n",
      "conda-4.8.4          | 3.1 MB    | ####2      |  42% \n",
      "conda-4.8.4          | 3.1 MB    | ####3      |  44% \n",
      "conda-4.8.4          | 3.1 MB    | ####5      |  45% \n",
      "conda-4.8.4          | 3.1 MB    | ####6      |  46% \n",
      "conda-4.8.4          | 3.1 MB    | ####7      |  47% \n",
      "conda-4.8.4          | 3.1 MB    | ####8      |  49% \n",
      "conda-4.8.4          | 3.1 MB    | ####9      |  50% \n",
      "conda-4.8.4          | 3.1 MB    | #####      |  51% \n",
      "conda-4.8.4          | 3.1 MB    | #####5     |  56% \n",
      "conda-4.8.4          | 3.1 MB    | #####7     |  58% \n",
      "conda-4.8.4          | 3.1 MB    | ######     |  61% \n",
      "conda-4.8.4          | 3.1 MB    | ######2    |  63% \n",
      "conda-4.8.4          | 3.1 MB    | ######4    |  65% \n",
      "conda-4.8.4          | 3.1 MB    | ######9    |  69% \n",
      "conda-4.8.4          | 3.1 MB    | #######1   |  71% \n",
      "conda-4.8.4          | 3.1 MB    | #######4   |  74% \n",
      "conda-4.8.4          | 3.1 MB    | #######5   |  76% \n",
      "conda-4.8.4          | 3.1 MB    | #######8   |  78% \n",
      "conda-4.8.4          | 3.1 MB    | #######9   |  80% \n",
      "conda-4.8.4          | 3.1 MB    | ########1  |  81% \n",
      "conda-4.8.4          | 3.1 MB    | ########5  |  86% \n",
      "conda-4.8.4          | 3.1 MB    | ########7  |  87% \n",
      "conda-4.8.4          | 3.1 MB    | ########9  |  89% \n",
      "conda-4.8.4          | 3.1 MB    | #########6 |  96% \n",
      "conda-4.8.4          | 3.1 MB    | #########8 |  99% \n",
      "conda-4.8.4          | 3.1 MB    | ########## | 100% \n",
      "Preparing transaction: ...working... done\n",
      "Verifying transaction: ...working... done\n",
      "Executing transaction: ...working... done\n",
      "Libraries imported.\n"
     ]
    }
   ],
   "source": [
    "import numpy as np # library to handle data in a vectorized manner\n",
    "\n",
    "import pandas as pd # library for data analsysis\n",
    "pd.set_option('display.max_columns', None)\n",
    "pd.set_option('display.max_rows', None)\n",
    "\n",
    "import json # library to handle JSON files\n",
    "!pip install geopy\n",
    "import geopy\n",
    "\n",
    "from geopy.geocoders import Nominatim # convert an address into latitude and longitude values\n",
    "\n",
    "import requests # library to handle requests\n",
    "from pandas.io.json import json_normalize # tranform JSON file into a pandas dataframe\n",
    "\n",
    "# Matplotlib and associated plotting modules\n",
    "import matplotlib.cm as cm\n",
    "import matplotlib.colors as colors\n",
    "\n",
    "# import k-means from clustering stage\n",
    "from sklearn.cluster import KMeans\n",
    "\n",
    "!conda install -c conda-forge folium=0.5.0 --yes \n",
    "import folium # map rendering library\n",
    "\n",
    "print('Libraries imported.')"
   ]
  },
  {
   "cell_type": "markdown",
   "metadata": {},
   "source": [
    "Now we define a function to get the geocodes i.e latitude and longitude of a given location using geopy."
   ]
  },
  {
   "cell_type": "code",
   "execution_count": 15,
   "metadata": {},
   "outputs": [],
   "source": [
    "def geo_location(address):\n",
    "    # get geo location of address\n",
    "    geolocator = Nominatim(user_agent=\"ny_explorer\")\n",
    "    location = geolocator.geocode(address)\n",
    "    latitude = location.latitude\n",
    "    longitude = location.longitude\n",
    "    return latitude,longitude"
   ]
  },
  {
   "cell_type": "markdown",
   "metadata": {},
   "source": [
    "We define a function to intract with FourSquare API and get top 100 venues within a radius of 1000 metres for a given latitude and longitude. Below function will return us the venue id , venue name and category."
   ]
  },
  {
   "cell_type": "code",
   "execution_count": 16,
   "metadata": {},
   "outputs": [],
   "source": [
    "def get_venues(lat,lng):\n",
    "    \n",
    "    #set variables\n",
    "    radius=1000\n",
    "    LIMIT=100\n",
    "    CLIENT_ID = 'ZIVVO4TOBD45GSAAPZEAJUENFKZXZHADM1TTKOKRQVIJPC1M' # your Foursquare ID\n",
    "    CLIENT_SECRET = 'KIFUSOPLJF2XG44URPKG2AACZ5XTJXAK20SHSEMHD54MCJ24' # your Foursquare Secret\n",
    "    VERSION = '20200401' # Foursquare API version\n",
    "  \n",
    "\n",
    "    #url to fetch data from foursquare api\n",
    "    url = 'https://api.foursquare.com/v2/venues/explore?&client_id={}&client_secret={}&v={}&ll={},{}&radius={}&limit={}'.format(\n",
    "            CLIENT_ID, \n",
    "            CLIENT_SECRET, \n",
    "            VERSION, \n",
    "            lat, \n",
    "            lng, \n",
    "            radius, \n",
    "            LIMIT)\n",
    "    \n",
    "    # get all the data\n",
    "    results = requests.get(url).json()\n",
    "    venue_data=results[\"response\"]['groups'][0]['items']\n",
    "    venue_details=[]\n",
    "    for row in venue_data:\n",
    "        try:\n",
    "            venue_id=row['venue']['id']\n",
    "            venue_name=row['venue']['name']\n",
    "            venue_category=row['venue']['categories'][0]['name']\n",
    "            venue_details.append([venue_id,venue_name,venue_category])\n",
    "        except KeyError:\n",
    "            pass\n",
    "        \n",
    "    column_names=['ID','Name','Category']\n",
    "    df = pd.DataFrame(venue_details,columns=column_names)\n",
    "    return df"
   ]
  },
  {
   "cell_type": "markdown",
   "metadata": {},
   "source": [
    "Now we will define a function to get venue details like like count , rating , tip counts for a given venue id. This will be used for ranking."
   ]
  },
  {
   "cell_type": "code",
   "execution_count": 165,
   "metadata": {},
   "outputs": [],
   "source": [
    "def get_venue_details(venue_id):\n",
    "        \n",
    "    CLIENT_ID = 'JMNCQD3QWMYC5JMN2XU1U2FF1QH5XHZTZDIDZM5LIFXKVLN0' # your Foursquare ID\n",
    "    CLIENT_SECRET = 'JNW5LMTPV1DAE3UWOYPPN3QNJPOKXJHKCWROVHWWPWBIYBWE' # your Foursquare Secret\n",
    "    VERSION = '20200401' \n",
    "    \n",
    "    #url to fetch data from foursquare api\n",
    "    url = 'https://api.foursquare.com/v2/venues/{}?&client_id={}&client_secret={}&v={}'.format(\n",
    "            venue_id,\n",
    "            CLIENT_ID, \n",
    "            CLIENT_SECRET, \n",
    "            VERSION)\n",
    "    \n",
    "    # get all the data\n",
    "    results = requests.get(url).json()\n",
    "    print(results)\n",
    "  \n",
    "    venue_data=results['response']['venue']\n",
    "    venue_details=[]\n",
    "    try:\n",
    "        venue_id=venue_data['id']\n",
    "        venue_name=venue_data['name']\n",
    "        venue_likes=venue_data['likes']['count']\n",
    "        venue_rating=venue_data['rating']\n",
    "        venue_tips=venue_data['tips']['count']\n",
    "        venue_details.append([venue_id,venue_name,venue_likes,venue_rating,venue_tips])\n",
    "    except KeyError:\n",
    "        pass\n",
    "        \n",
    "    column_names=['ID','Name','Likes','Rating','Tips']\n",
    "    df = pd.DataFrame(venue_details,columns=column_names)\n",
    "    return df "
   ]
  },
  {
   "cell_type": "markdown",
   "metadata": {},
   "source": [
    "Now we define a funtion to get the new york city data such as Boroughs, Neighborhoods along with their latitude and longitude."
   ]
  },
  {
   "cell_type": "code",
   "execution_count": 18,
   "metadata": {},
   "outputs": [],
   "source": [
    "def get_new_york_data():\n",
    "    url='https://cocl.us/new_york_dataset'\n",
    "    resp=requests.get(url).json()\n",
    "    # all data is present in features label\n",
    "    features=resp['features']\n",
    "    \n",
    "    # define the dataframe columns\n",
    "    column_names = ['Borough', 'Neighborhood', 'Latitude', 'Longitude'] \n",
    "    # instantiate the dataframe\n",
    "    new_york_data = pd.DataFrame(columns=column_names)\n",
    "    \n",
    "    for data in features:\n",
    "        borough = data['properties']['borough'] \n",
    "        neighborhood_name = data['properties']['name']\n",
    "        \n",
    "        neighborhood_latlon = data['geometry']['coordinates']\n",
    "        neighborhood_lat = neighborhood_latlon[1]\n",
    "        neighborhood_lon = neighborhood_latlon[0]\n",
    "    \n",
    "        new_york_data = new_york_data.append({'Borough': borough,\n",
    "                                          'Neighborhood': neighborhood_name,\n",
    "                                          'Latitude': neighborhood_lat,\n",
    "                                          'Longitude': neighborhood_lon}, ignore_index=True)\n",
    "    \n",
    "    return new_york_data"
   ]
  },
  {
   "cell_type": "markdown",
   "metadata": {},
   "source": [
    "We will call the above funtion to get the new york city data."
   ]
  },
  {
   "cell_type": "code",
   "execution_count": 19,
   "metadata": {},
   "outputs": [],
   "source": [
    "new_york_data=get_new_york_data()"
   ]
  },
  {
   "cell_type": "code",
   "execution_count": 20,
   "metadata": {},
   "outputs": [
    {
     "data": {
      "text/html": [
       "<div>\n",
       "<style scoped>\n",
       "    .dataframe tbody tr th:only-of-type {\n",
       "        vertical-align: middle;\n",
       "    }\n",
       "\n",
       "    .dataframe tbody tr th {\n",
       "        vertical-align: top;\n",
       "    }\n",
       "\n",
       "    .dataframe thead th {\n",
       "        text-align: right;\n",
       "    }\n",
       "</style>\n",
       "<table border=\"1\" class=\"dataframe\">\n",
       "  <thead>\n",
       "    <tr style=\"text-align: right;\">\n",
       "      <th></th>\n",
       "      <th>Borough</th>\n",
       "      <th>Neighborhood</th>\n",
       "      <th>Latitude</th>\n",
       "      <th>Longitude</th>\n",
       "    </tr>\n",
       "  </thead>\n",
       "  <tbody>\n",
       "    <tr>\n",
       "      <th>0</th>\n",
       "      <td>Bronx</td>\n",
       "      <td>Wakefield</td>\n",
       "      <td>40.894705</td>\n",
       "      <td>-73.847201</td>\n",
       "    </tr>\n",
       "    <tr>\n",
       "      <th>1</th>\n",
       "      <td>Bronx</td>\n",
       "      <td>Co-op City</td>\n",
       "      <td>40.874294</td>\n",
       "      <td>-73.829939</td>\n",
       "    </tr>\n",
       "    <tr>\n",
       "      <th>2</th>\n",
       "      <td>Bronx</td>\n",
       "      <td>Eastchester</td>\n",
       "      <td>40.887556</td>\n",
       "      <td>-73.827806</td>\n",
       "    </tr>\n",
       "    <tr>\n",
       "      <th>3</th>\n",
       "      <td>Bronx</td>\n",
       "      <td>Fieldston</td>\n",
       "      <td>40.895437</td>\n",
       "      <td>-73.905643</td>\n",
       "    </tr>\n",
       "    <tr>\n",
       "      <th>4</th>\n",
       "      <td>Bronx</td>\n",
       "      <td>Riverdale</td>\n",
       "      <td>40.890834</td>\n",
       "      <td>-73.912585</td>\n",
       "    </tr>\n",
       "  </tbody>\n",
       "</table>\n",
       "</div>"
      ],
      "text/plain": [
       "  Borough Neighborhood   Latitude  Longitude\n",
       "0   Bronx    Wakefield  40.894705 -73.847201\n",
       "1   Bronx   Co-op City  40.874294 -73.829939\n",
       "2   Bronx  Eastchester  40.887556 -73.827806\n",
       "3   Bronx    Fieldston  40.895437 -73.905643\n",
       "4   Bronx    Riverdale  40.890834 -73.912585"
      ]
     },
     "execution_count": 20,
     "metadata": {},
     "output_type": "execute_result"
    }
   ],
   "source": [
    "new_york_data.head()"
   ]
  },
  {
   "cell_type": "code",
   "execution_count": 10,
   "metadata": {},
   "outputs": [
    {
     "data": {
      "text/plain": [
       "(306, 4)"
      ]
     },
     "execution_count": 10,
     "metadata": {},
     "output_type": "execute_result"
    }
   ],
   "source": [
    "new_york_data.shape"
   ]
  },
  {
   "cell_type": "markdown",
   "metadata": {},
   "source": [
    "### The above result shows that there are 306 different Neighborhoods in New York."
   ]
  },
  {
   "cell_type": "markdown",
   "metadata": {},
   "source": [
    "Now let create a BAR PLOT to show different Neighborhoods in New York."
   ]
  },
  {
   "cell_type": "code",
   "execution_count": 38,
   "metadata": {},
   "outputs": [
    {
     "data": {
      "image/png": "[encoded data removed]",
      "text/plain": [
       "<Figure size 900x500 with 1 Axes>"
      ]
     },
     "metadata": {
      "needs_background": "light"
     },
     "output_type": "display_data"
    }
   ],
   "source": [
    "import matplotlib.pyplot as plt\n",
    "import matplotlib.cm as cm\n",
    "import matplotlib.colors as colors\n",
    "%matplotlib inline\n",
    "plt.figure(figsize=(9,5), dpi = 100)\n",
    "# title\n",
    "plt.title('Number of Neighborhood for each Borough in New York City')\n",
    "#On x-axis\n",
    "plt.xlabel('Borough', fontsize = 15)\n",
    "#On y-axis\n",
    "plt.ylabel('No.of Neighborhood', fontsize=15)\n",
    "#giving a bar plot\n",
    "new_york_data.groupby('Borough')['Neighborhood'].count().plot(kind='bar')\n",
    "#legend\n",
    "plt.legend()\n",
    "#displays the plot\n",
    "plt.show()"
   ]
  },
  {
   "cell_type": "markdown",
   "metadata": {},
   "source": [
    "### From the above Bar Plot, we can see that Queens has highest number of neighborhoods."
   ]
  },
  {
   "cell_type": "markdown",
   "metadata": {},
   "source": [
    "Next we will collect Bakery information for each Neighborhood."
   ]
  },
  {
   "cell_type": "code",
   "execution_count": 40,
   "metadata": {},
   "outputs": [
    {
     "name": "stdout",
     "output_type": "stream",
     "text": [
      "( 1 / 306 ) Bakery in Wakefield, Bronx:2\n",
      "( 2 / 306 ) Bakery in Co-op City, Bronx:2\n",
      "( 3 / 306 ) Bakery in Eastchester, Bronx:1\n",
      "( 4 / 306 ) Bakery in Fieldston, Bronx:1\n",
      "( 5 / 306 ) Bakery in Riverdale, Bronx:0\n",
      "( 6 / 306 ) Bakery in Kingsbridge, Bronx:2\n",
      "( 7 / 306 ) Bakery in Marble Hill, Manhattan:2\n",
      "( 8 / 306 ) Bakery in Woodlawn, Bronx:2\n",
      "( 9 / 306 ) Bakery in Norwood, Bronx:0\n",
      "( 10 / 306 ) Bakery in Williamsbridge, Bronx:3\n",
      "( 11 / 306 ) Bakery in Baychester, Bronx:2\n",
      "( 12 / 306 ) Bakery in Pelham Parkway, Bronx:3\n",
      "( 13 / 306 ) Bakery in City Island, Bronx:0\n",
      "( 14 / 306 ) Bakery in Bedford Park, Bronx:0\n",
      "( 15 / 306 ) Bakery in University Heights, Bronx:1\n",
      "( 16 / 306 ) Bakery in Morris Heights, Bronx:0\n",
      "( 17 / 306 ) Bakery in Fordham, Bronx:2\n",
      "( 18 / 306 ) Bakery in East Tremont, Bronx:0\n",
      "( 19 / 306 ) Bakery in West Farms, Bronx:0\n",
      "( 20 / 306 ) Bakery in High  Bridge, Bronx:0\n",
      "( 21 / 306 ) Bakery in Melrose, Bronx:1\n",
      "( 22 / 306 ) Bakery in Mott Haven, Bronx:0\n",
      "( 23 / 306 ) Bakery in Port Morris, Bronx:0\n",
      "( 24 / 306 ) Bakery in Longwood, Bronx:3\n",
      "( 25 / 306 ) Bakery in Hunts Point, Bronx:2\n",
      "( 26 / 306 ) Bakery in Morrisania, Bronx:1\n",
      "( 27 / 306 ) Bakery in Soundview, Bronx:0\n",
      "( 28 / 306 ) Bakery in Clason Point, Bronx:0\n",
      "( 29 / 306 ) Bakery in Throgs Neck, Bronx:0\n",
      "( 30 / 306 ) Bakery in Country Club, Bronx:3\n",
      "( 31 / 306 ) Bakery in Parkchester, Bronx:0\n",
      "( 32 / 306 ) Bakery in Westchester Square, Bronx:1\n",
      "( 33 / 306 ) Bakery in Van Nest, Bronx:0\n",
      "( 34 / 306 ) Bakery in Morris Park, Bronx:2\n",
      "( 35 / 306 ) Bakery in Belmont, Bronx:6\n",
      "( 36 / 306 ) Bakery in Spuyten Duyvil, Bronx:0\n",
      "( 37 / 306 ) Bakery in North Riverdale, Bronx:0\n",
      "( 38 / 306 ) Bakery in Pelham Bay, Bronx:3\n",
      "( 39 / 306 ) Bakery in Schuylerville, Bronx:0\n",
      "( 40 / 306 ) Bakery in Edgewater Park, Bronx:0\n",
      "( 41 / 306 ) Bakery in Castle Hill, Bronx:0\n",
      "( 42 / 306 ) Bakery in Olinville, Bronx:0\n",
      "( 43 / 306 ) Bakery in Pelham Gardens, Bronx:1\n",
      "( 44 / 306 ) Bakery in Concourse, Bronx:2\n",
      "( 45 / 306 ) Bakery in Unionport, Bronx:0\n",
      "( 46 / 306 ) Bakery in Edenwald, Bronx:3\n",
      "( 47 / 306 ) Bakery in Bay Ridge, Brooklyn:2\n",
      "( 48 / 306 ) Bakery in Bensonhurst, Brooklyn:5\n",
      "( 49 / 306 ) Bakery in Sunset Park, Brooklyn:9\n",
      "( 50 / 306 ) Bakery in Greenpoint, Brooklyn:3\n",
      "( 51 / 306 ) Bakery in Gravesend, Brooklyn:3\n",
      "( 52 / 306 ) Bakery in Brighton Beach, Brooklyn:4\n",
      "( 53 / 306 ) Bakery in Sheepshead Bay, Brooklyn:0\n",
      "( 54 / 306 ) Bakery in Manhattan Terrace, Brooklyn:1\n",
      "( 55 / 306 ) Bakery in Flatbush, Brooklyn:1\n",
      "( 56 / 306 ) Bakery in Crown Heights, Brooklyn:3\n",
      "( 57 / 306 ) Bakery in East Flatbush, Brooklyn:1\n",
      "( 58 / 306 ) Bakery in Kensington, Brooklyn:2\n",
      "( 59 / 306 ) Bakery in Windsor Terrace, Brooklyn:1\n",
      "( 60 / 306 ) Bakery in Prospect Heights, Brooklyn:2\n",
      "( 61 / 306 ) Bakery in Brownsville, Brooklyn:0\n",
      "( 62 / 306 ) Bakery in Williamsburg, Brooklyn:2\n",
      "( 63 / 306 ) Bakery in Bushwick, Brooklyn:2\n",
      "( 64 / 306 ) Bakery in Bedford Stuyvesant, Brooklyn:1\n",
      "( 65 / 306 ) Bakery in Brooklyn Heights, Brooklyn:1\n",
      "( 66 / 306 ) Bakery in Cobble Hill, Brooklyn:4\n",
      "( 67 / 306 ) Bakery in Carroll Gardens, Brooklyn:5\n",
      "( 68 / 306 ) Bakery in Red Hook, Brooklyn:1\n",
      "( 69 / 306 ) Bakery in Gowanus, Brooklyn:1\n",
      "( 70 / 306 ) Bakery in Fort Greene, Brooklyn:0\n",
      "( 71 / 306 ) Bakery in Park Slope, Brooklyn:5\n",
      "( 72 / 306 ) Bakery in Cypress Hills, Brooklyn:0\n",
      "( 73 / 306 ) Bakery in East New York, Brooklyn:1\n",
      "( 74 / 306 ) Bakery in Starrett City, Brooklyn:1\n",
      "( 75 / 306 ) Bakery in Canarsie, Brooklyn:1\n",
      "( 76 / 306 ) Bakery in Flatlands, Brooklyn:0\n",
      "( 77 / 306 ) Bakery in Mill Island, Brooklyn:1\n",
      "( 78 / 306 ) Bakery in Manhattan Beach, Brooklyn:0\n",
      "( 79 / 306 ) Bakery in Coney Island, Brooklyn:1\n",
      "( 80 / 306 ) Bakery in Bath Beach, Brooklyn:4\n",
      "( 81 / 306 ) Bakery in Borough Park, Brooklyn:3\n",
      "( 82 / 306 ) Bakery in Dyker Heights, Brooklyn:3\n",
      "( 83 / 306 ) Bakery in Gerritsen Beach, Brooklyn:0\n",
      "( 84 / 306 ) Bakery in Marine Park, Brooklyn:3\n",
      "( 85 / 306 ) Bakery in Clinton Hill, Brooklyn:1\n",
      "( 86 / 306 ) Bakery in Sea Gate, Brooklyn:0\n",
      "( 87 / 306 ) Bakery in Downtown, Brooklyn:4\n",
      "( 88 / 306 ) Bakery in Boerum Hill, Brooklyn:5\n",
      "( 89 / 306 ) Bakery in Prospect Lefferts Gardens, Brooklyn:5\n",
      "( 90 / 306 ) Bakery in Ocean Hill, Brooklyn:1\n",
      "( 91 / 306 ) Bakery in City Line, Brooklyn:0\n",
      "( 92 / 306 ) Bakery in Bergen Beach, Brooklyn:0\n",
      "( 93 / 306 ) Bakery in Midwood, Brooklyn:2\n",
      "( 94 / 306 ) Bakery in Prospect Park South, Brooklyn:2\n",
      "( 95 / 306 ) Bakery in Georgetown, Brooklyn:0\n",
      "( 96 / 306 ) Bakery in East Williamsburg, Brooklyn:5\n",
      "( 97 / 306 ) Bakery in North Side, Brooklyn:3\n",
      "( 98 / 306 ) Bakery in South Side, Brooklyn:3\n",
      "( 99 / 306 ) Bakery in Ocean Parkway, Brooklyn:0\n",
      "( 100 / 306 ) Bakery in Fort Hamilton, Brooklyn:2\n",
      "( 101 / 306 ) Bakery in Chinatown, Manhattan:4\n",
      "( 102 / 306 ) Bakery in Washington Heights, Manhattan:5\n",
      "( 103 / 306 ) Bakery in Inwood, Manhattan:3\n",
      "( 104 / 306 ) Bakery in Hamilton Heights, Manhattan:2\n",
      "( 105 / 306 ) Bakery in Manhattanville, Manhattan:0\n",
      "( 106 / 306 ) Bakery in Central Harlem, Manhattan:0\n",
      "( 107 / 306 ) Bakery in East Harlem, Manhattan:5\n",
      "( 108 / 306 ) Bakery in Upper East Side, Manhattan:6\n",
      "( 109 / 306 ) Bakery in Yorkville, Manhattan:2\n",
      "( 110 / 306 ) Bakery in Lenox Hill, Manhattan:2\n",
      "( 111 / 306 ) Bakery in Roosevelt Island, Manhattan:0\n",
      "( 112 / 306 ) Bakery in Upper West Side, Manhattan:4\n",
      "( 113 / 306 ) Bakery in Lincoln Square, Manhattan:2\n",
      "( 114 / 306 ) Bakery in Clinton, Manhattan:3\n",
      "( 115 / 306 ) Bakery in Midtown, Manhattan:2\n",
      "( 116 / 306 ) Bakery in Murray Hill, Manhattan:4\n",
      "( 117 / 306 ) Bakery in Chelsea, Manhattan:3\n",
      "( 118 / 306 ) Bakery in Greenwich Village, Manhattan:1\n",
      "( 119 / 306 ) Bakery in East Village, Manhattan:2\n",
      "( 120 / 306 ) Bakery in Lower East Side, Manhattan:3\n",
      "( 121 / 306 ) Bakery in Tribeca, Manhattan:1\n",
      "( 122 / 306 ) Bakery in Little Italy, Manhattan:3\n",
      "( 123 / 306 ) Bakery in Soho, Manhattan:3\n",
      "( 124 / 306 ) Bakery in West Village, Manhattan:3\n",
      "( 125 / 306 ) Bakery in Manhattan Valley, Manhattan:2\n",
      "( 126 / 306 ) Bakery in Morningside Heights, Manhattan:3\n",
      "( 127 / 306 ) Bakery in Gramercy, Manhattan:0\n",
      "( 128 / 306 ) Bakery in Battery Park City, Manhattan:1\n",
      "( 129 / 306 ) Bakery in Financial District, Manhattan:0\n",
      "( 130 / 306 ) Bakery in Astoria, Queens:3\n",
      "( 131 / 306 ) Bakery in Woodside, Queens:6\n",
      "( 132 / 306 ) Bakery in Jackson Heights, Queens:7\n",
      "( 133 / 306 ) Bakery in Elmhurst, Queens:8\n",
      "( 134 / 306 ) Bakery in Howard Beach, Queens:0\n",
      "( 135 / 306 ) Bakery in Corona, Queens:2\n",
      "( 136 / 306 ) Bakery in Forest Hills, Queens:6\n",
      "( 137 / 306 ) Bakery in Kew Gardens, Queens:0\n",
      "( 138 / 306 ) Bakery in Richmond Hill, Queens:0\n",
      "( 139 / 306 ) Bakery in Flushing, Queens:5\n",
      "( 140 / 306 ) Bakery in Long Island City, Queens:1\n",
      "( 141 / 306 ) Bakery in Sunnyside, Queens:5\n",
      "( 142 / 306 ) Bakery in East Elmhurst, Queens:2\n",
      "( 143 / 306 ) Bakery in Maspeth, Queens:4\n",
      "( 144 / 306 ) Bakery in Ridgewood, Queens:3\n",
      "( 145 / 306 ) Bakery in Glendale, Queens:1\n",
      "( 146 / 306 ) Bakery in Rego Park, Queens:5\n",
      "( 147 / 306 ) Bakery in Woodhaven, Queens:0\n",
      "( 148 / 306 ) Bakery in Ozone Park, Queens:1\n",
      "( 149 / 306 ) Bakery in South Ozone Park, Queens:0\n",
      "( 150 / 306 ) Bakery in College Point, Queens:1\n",
      "( 151 / 306 ) Bakery in Whitestone, Queens:1\n",
      "( 152 / 306 ) Bakery in Bayside, Queens:3\n",
      "( 153 / 306 ) Bakery in Auburndale, Queens:0\n",
      "( 154 / 306 ) Bakery in Little Neck, Queens:2\n",
      "( 155 / 306 ) Bakery in Douglaston, Queens:2\n",
      "( 156 / 306 ) Bakery in Glen Oaks, Queens:0\n",
      "( 157 / 306 ) Bakery in Bellerose, Queens:0\n",
      "( 158 / 306 ) Bakery in Kew Gardens Hills, Queens:1\n",
      "( 159 / 306 ) Bakery in Fresh Meadows, Queens:2\n",
      "( 160 / 306 ) Bakery in Briarwood, Queens:1\n",
      "( 161 / 306 ) Bakery in Jamaica Center, Queens:1\n",
      "( 162 / 306 ) Bakery in Oakland Gardens, Queens:0\n",
      "( 163 / 306 ) Bakery in Queens Village, Queens:1\n",
      "( 164 / 306 ) Bakery in Hollis, Queens:0\n",
      "( 165 / 306 ) Bakery in South Jamaica, Queens:0\n",
      "( 166 / 306 ) Bakery in St. Albans, Queens:1\n",
      "( 167 / 306 ) Bakery in Rochdale, Queens:0\n",
      "( 168 / 306 ) Bakery in Springfield Gardens, Queens:1\n",
      "( 169 / 306 ) Bakery in Cambria Heights, Queens:1\n",
      "( 170 / 306 ) Bakery in Rosedale, Queens:0\n",
      "( 171 / 306 ) Bakery in Far Rockaway, Queens:0\n",
      "( 172 / 306 ) Bakery in Broad Channel, Queens:0\n",
      "( 173 / 306 ) Bakery in Breezy Point, Queens:0\n",
      "( 174 / 306 ) Bakery in Steinway, Queens:3\n",
      "( 175 / 306 ) Bakery in Beechhurst, Queens:1\n",
      "( 176 / 306 ) Bakery in Bay Terrace, Queens:1\n",
      "( 177 / 306 ) Bakery in Edgemere, Queens:0\n",
      "( 178 / 306 ) Bakery in Arverne, Queens:0\n",
      "( 179 / 306 ) Bakery in Rockaway Beach, Queens:1\n",
      "( 180 / 306 ) Bakery in Neponsit, Queens:1\n",
      "( 181 / 306 ) Bakery in Murray Hill, Queens:3\n",
      "( 182 / 306 ) Bakery in Floral Park, Queens:2\n",
      "( 183 / 306 ) Bakery in Holliswood, Queens:2\n",
      "( 184 / 306 ) Bakery in Jamaica Estates, Queens:0\n",
      "( 185 / 306 ) Bakery in Queensboro Hill, Queens:4\n",
      "( 186 / 306 ) Bakery in Hillcrest, Queens:2\n",
      "( 187 / 306 ) Bakery in Ravenswood, Queens:1\n",
      "( 188 / 306 ) Bakery in Lindenwood, Queens:3\n",
      "( 189 / 306 ) Bakery in Laurelton, Queens:0\n",
      "( 190 / 306 ) Bakery in Lefrak City, Queens:4\n",
      "( 191 / 306 ) Bakery in Belle Harbor, Queens:1\n",
      "( 192 / 306 ) Bakery in Rockaway Park, Queens:1\n",
      "( 193 / 306 ) Bakery in Somerville, Queens:0\n",
      "( 194 / 306 ) Bakery in Brookville, Queens:1\n",
      "( 195 / 306 ) Bakery in Bellaire, Queens:0\n",
      "( 196 / 306 ) Bakery in North Corona, Queens:5\n",
      "( 197 / 306 ) Bakery in Forest Hills Gardens, Queens:7\n",
      "( 198 / 306 ) Bakery in St. George, Staten Island:1\n",
      "( 199 / 306 ) Bakery in New Brighton, Staten Island:1\n",
      "( 200 / 306 ) Bakery in Stapleton, Staten Island:0\n",
      "( 201 / 306 ) Bakery in Rosebank, Staten Island:0\n",
      "( 202 / 306 ) Bakery in West Brighton, Staten Island:0\n",
      "( 203 / 306 ) Bakery in Grymes Hill, Staten Island:0\n",
      "( 204 / 306 ) Bakery in Todt Hill, Staten Island:0\n",
      "( 205 / 306 ) Bakery in South Beach, Staten Island:0\n",
      "( 206 / 306 ) Bakery in Port Richmond, Staten Island:2\n",
      "( 207 / 306 ) Bakery in Mariner's Harbor, Staten Island:0\n",
      "( 208 / 306 ) Bakery in Port Ivory, Staten Island:0\n",
      "( 209 / 306 ) Bakery in Castleton Corners, Staten Island:1\n",
      "( 210 / 306 ) Bakery in New Springville, Staten Island:0\n",
      "( 211 / 306 ) Bakery in Travis, Staten Island:0\n",
      "( 212 / 306 ) Bakery in New Dorp, Staten Island:1\n",
      "( 213 / 306 ) Bakery in Oakwood, Staten Island:0\n",
      "( 214 / 306 ) Bakery in Great Kills, Staten Island:0\n",
      "( 215 / 306 ) Bakery in Eltingville, Staten Island:1\n",
      "( 216 / 306 ) Bakery in Annadale, Staten Island:0\n",
      "( 217 / 306 ) Bakery in Woodrow, Staten Island:1\n",
      "( 218 / 306 ) Bakery in Tottenville, Staten Island:1\n",
      "( 219 / 306 ) Bakery in Tompkinsville, Staten Island:0\n",
      "( 220 / 306 ) Bakery in Silver Lake, Staten Island:0\n",
      "( 221 / 306 ) Bakery in Sunnyside, Staten Island:0\n",
      "( 222 / 306 ) Bakery in Ditmas Park, Brooklyn:1\n",
      "( 223 / 306 ) Bakery in Wingate, Brooklyn:2\n",
      "( 224 / 306 ) Bakery in Rugby, Brooklyn:1\n",
      "( 225 / 306 ) Bakery in Park Hill, Staten Island:0\n",
      "( 226 / 306 ) Bakery in Westerleigh, Staten Island:3\n",
      "( 227 / 306 ) Bakery in Graniteville, Staten Island:1\n",
      "( 228 / 306 ) Bakery in Arlington, Staten Island:0\n",
      "( 229 / 306 ) Bakery in Arrochar, Staten Island:0\n",
      "( 230 / 306 ) Bakery in Grasmere, Staten Island:2\n",
      "( 231 / 306 ) Bakery in Old Town, Staten Island:2\n",
      "( 232 / 306 ) Bakery in Dongan Hills, Staten Island:0\n",
      "( 233 / 306 ) Bakery in Midland Beach, Staten Island:1\n",
      "( 234 / 306 ) Bakery in Grant City, Staten Island:2\n",
      "( 235 / 306 ) Bakery in New Dorp Beach, Staten Island:0\n",
      "( 236 / 306 ) Bakery in Bay Terrace, Staten Island:0\n",
      "( 237 / 306 ) Bakery in Huguenot, Staten Island:0\n",
      "( 238 / 306 ) Bakery in Pleasant Plains, Staten Island:2\n",
      "( 239 / 306 ) Bakery in Butler Manor, Staten Island:0\n",
      "( 240 / 306 ) Bakery in Charleston, Staten Island:2\n",
      "( 241 / 306 ) Bakery in Rossville, Staten Island:0\n",
      "( 242 / 306 ) Bakery in Arden Heights, Staten Island:0\n",
      "( 243 / 306 ) Bakery in Greenridge, Staten Island:0\n",
      "( 244 / 306 ) Bakery in Heartland Village, Staten Island:0\n",
      "( 245 / 306 ) Bakery in Chelsea, Staten Island:1\n",
      "( 246 / 306 ) Bakery in Bloomfield, Staten Island:0\n",
      "( 247 / 306 ) Bakery in Bulls Head, Staten Island:0\n",
      "( 248 / 306 ) Bakery in Carnegie Hill, Manhattan:4\n",
      "( 249 / 306 ) Bakery in Noho, Manhattan:2\n",
      "( 250 / 306 ) Bakery in Civic Center, Manhattan:3\n",
      "( 251 / 306 ) Bakery in Midtown South, Manhattan:3\n",
      "( 252 / 306 ) Bakery in Richmond Town, Staten Island:0\n",
      "( 253 / 306 ) Bakery in Shore Acres, Staten Island:0\n",
      "( 254 / 306 ) Bakery in Clifton, Staten Island:0\n",
      "( 255 / 306 ) Bakery in Concord, Staten Island:2\n",
      "( 256 / 306 ) Bakery in Emerson Hill, Staten Island:0\n",
      "( 257 / 306 ) Bakery in Randall Manor, Staten Island:0\n",
      "( 258 / 306 ) Bakery in Howland Hook, Staten Island:0\n",
      "( 259 / 306 ) Bakery in Elm Park, Staten Island:2\n",
      "( 260 / 306 ) Bakery in Remsen Village, Brooklyn:0\n",
      "( 261 / 306 ) Bakery in New Lots, Brooklyn:0\n",
      "( 262 / 306 ) Bakery in Paerdegat Basin, Brooklyn:1\n",
      "( 263 / 306 ) Bakery in Mill Basin, Brooklyn:1\n",
      "( 264 / 306 ) Bakery in Jamaica Hills, Queens:0\n",
      "( 265 / 306 ) Bakery in Utopia, Queens:0\n",
      "( 266 / 306 ) Bakery in Pomonok, Queens:0\n",
      "( 267 / 306 ) Bakery in Astoria Heights, Queens:2\n",
      "( 268 / 306 ) Bakery in Claremont Village, Bronx:0\n",
      "( 269 / 306 ) Bakery in Concourse Village, Bronx:1\n",
      "( 270 / 306 ) Bakery in Mount Eden, Bronx:0\n",
      "( 271 / 306 ) Bakery in Mount Hope, Bronx:0\n",
      "( 272 / 306 ) Bakery in Sutton Place, Manhattan:2\n",
      "( 273 / 306 ) Bakery in Hunters Point, Queens:1\n",
      "( 274 / 306 ) Bakery in Turtle Bay, Manhattan:2\n",
      "( 275 / 306 ) Bakery in Tudor City, Manhattan:1\n",
      "( 276 / 306 ) Bakery in Stuyvesant Town, Manhattan:2\n",
      "( 277 / 306 ) Bakery in Flatiron, Manhattan:1\n",
      "( 278 / 306 ) Bakery in Sunnyside Gardens, Queens:3\n",
      "( 279 / 306 ) Bakery in Blissville, Queens:4\n",
      "( 280 / 306 ) Bakery in Fulton Ferry, Brooklyn:3\n",
      "( 281 / 306 ) Bakery in Vinegar Hill, Brooklyn:3\n",
      "( 282 / 306 ) Bakery in Weeksville, Brooklyn:2\n",
      "( 283 / 306 ) Bakery in Broadway Junction, Brooklyn:2\n",
      "( 284 / 306 ) Bakery in Dumbo, Brooklyn:3\n",
      "( 285 / 306 ) Bakery in Manor Heights, Staten Island:0\n",
      "( 286 / 306 ) Bakery in Willowbrook, Staten Island:0\n",
      "( 287 / 306 ) Bakery in Sandy Ground, Staten Island:1\n",
      "( 288 / 306 ) Bakery in Egbertville, Staten Island:0\n",
      "( 289 / 306 ) Bakery in Roxbury, Queens:0\n",
      "( 290 / 306 ) Bakery in Homecrest, Brooklyn:3\n",
      "( 291 / 306 ) Bakery in Middle Village, Queens:3\n",
      "( 292 / 306 ) Bakery in Prince's Bay, Staten Island:0\n",
      "( 293 / 306 ) Bakery in Lighthouse Hill, Staten Island:0\n",
      "( 294 / 306 ) Bakery in Richmond Valley, Staten Island:2\n",
      "( 295 / 306 ) Bakery in Malba, Queens:0\n",
      "( 296 / 306 ) Bakery in Highland Park, Brooklyn:2\n",
      "( 297 / 306 ) Bakery in Madison, Brooklyn:1\n",
      "( 298 / 306 ) Bakery in Bronxdale, Bronx:2\n",
      "( 299 / 306 ) Bakery in Allerton, Bronx:1\n",
      "( 300 / 306 ) Bakery in Kingsbridge Heights, Bronx:1\n",
      "( 301 / 306 ) Bakery in Erasmus, Brooklyn:1\n",
      "( 302 / 306 ) Bakery in Hudson Yards, Manhattan:0\n",
      "( 303 / 306 ) Bakery in Hammels, Queens:1\n",
      "( 304 / 306 ) Bakery in Bayswater, Queens:0\n",
      "( 305 / 306 ) Bakery in Queensbridge, Queens:1\n",
      "( 306 / 306 ) Bakery in Fox Hills, Staten Island:0\n"
     ]
    }
   ],
   "source": [
    "# prepare neighborhood list that contains Bakery\n",
    "column_names=['Borough', 'Neighborhood', 'ID','Name']\n",
    "bakery_ny=pd.DataFrame(columns=column_names)\n",
    "count=1\n",
    "for row in new_york_data.values.tolist():\n",
    "    Borough, Neighborhood, Latitude, Longitude=row\n",
    "    venues = get_venues(Latitude,Longitude)\n",
    "    bakery=venues[venues['Category']=='Bakery']   \n",
    "    print('(',count,'/',len(new_york_data),')','Bakery in '+Neighborhood+', '+Borough+':'+str(len(bakery)))\n",
    "    for bakery_detail in bakery.values.tolist():\n",
    "        id, name , category=bakery_detail\n",
    "        bakery_ny = bakery_ny.append({'Borough': Borough,\n",
    "                                                'Neighborhood': Neighborhood, \n",
    "                                                'ID': id,\n",
    "                                                'Name' : name\n",
    "                                               }, ignore_index=True)\n",
    "    count+=1"
   ]
  },
  {
   "cell_type": "markdown",
   "metadata": {},
   "source": [
    "Now that we have got all the bakery in new york city , we will analyze it."
   ]
  },
  {
   "cell_type": "code",
   "execution_count": null,
   "metadata": {},
   "outputs": [],
   "source": []
  },
  {
   "cell_type": "code",
   "execution_count": 42,
   "metadata": {},
   "outputs": [
    {
     "data": {
      "text/html": [
       "<div>\n",
       "<style scoped>\n",
       "    .dataframe tbody tr th:only-of-type {\n",
       "        vertical-align: middle;\n",
       "    }\n",
       "\n",
       "    .dataframe tbody tr th {\n",
       "        vertical-align: top;\n",
       "    }\n",
       "\n",
       "    .dataframe thead th {\n",
       "        text-align: right;\n",
       "    }\n",
       "</style>\n",
       "<table border=\"1\" class=\"dataframe\">\n",
       "  <thead>\n",
       "    <tr style=\"text-align: right;\">\n",
       "      <th></th>\n",
       "      <th>Borough</th>\n",
       "      <th>Neighborhood</th>\n",
       "      <th>ID</th>\n",
       "      <th>Name</th>\n",
       "    </tr>\n",
       "  </thead>\n",
       "  <tbody>\n",
       "    <tr>\n",
       "      <th>0</th>\n",
       "      <td>Bronx</td>\n",
       "      <td>Wakefield</td>\n",
       "      <td>4cd3edd25366548131a129ed</td>\n",
       "      <td>E&amp;L Bakery</td>\n",
       "    </tr>\n",
       "    <tr>\n",
       "      <th>1</th>\n",
       "      <td>Bronx</td>\n",
       "      <td>Wakefield</td>\n",
       "      <td>4f6e2346e4b03b575cdceb3e</td>\n",
       "      <td>Dee-Lectable Pleasure Cakes</td>\n",
       "    </tr>\n",
       "    <tr>\n",
       "      <th>2</th>\n",
       "      <td>Bronx</td>\n",
       "      <td>Co-op City</td>\n",
       "      <td>4a720b8ef964a52036da1fe3</td>\n",
       "      <td>Panera Bread</td>\n",
       "    </tr>\n",
       "    <tr>\n",
       "      <th>3</th>\n",
       "      <td>Bronx</td>\n",
       "      <td>Co-op City</td>\n",
       "      <td>4c433c8fce54e21ef8c50d1a</td>\n",
       "      <td>The Cookie Factory</td>\n",
       "    </tr>\n",
       "    <tr>\n",
       "      <th>4</th>\n",
       "      <td>Bronx</td>\n",
       "      <td>Eastchester</td>\n",
       "      <td>564d19cd498eef10e4500403</td>\n",
       "      <td>Panera Bread</td>\n",
       "    </tr>\n",
       "  </tbody>\n",
       "</table>\n",
       "</div>"
      ],
      "text/plain": [
       "  Borough Neighborhood                        ID                         Name\n",
       "0   Bronx    Wakefield  4cd3edd25366548131a129ed                   E&L Bakery\n",
       "1   Bronx    Wakefield  4f6e2346e4b03b575cdceb3e  Dee-Lectable Pleasure Cakes\n",
       "2   Bronx   Co-op City  4a720b8ef964a52036da1fe3                 Panera Bread\n",
       "3   Bronx   Co-op City  4c433c8fce54e21ef8c50d1a           The Cookie Factory\n",
       "4   Bronx  Eastchester  564d19cd498eef10e4500403                 Panera Bread"
      ]
     },
     "execution_count": 42,
     "metadata": {},
     "output_type": "execute_result"
    }
   ],
   "source": [
    "bakery_ny.head()"
   ]
  },
  {
   "cell_type": "code",
   "execution_count": 25,
   "metadata": {},
   "outputs": [
    {
     "data": {
      "text/plain": [
       "(334, 4)"
      ]
     },
     "execution_count": 25,
     "metadata": {},
     "output_type": "execute_result"
    }
   ],
   "source": [
    "bakery_ny.shape"
   ]
  },
  {
   "cell_type": "markdown",
   "metadata": {},
   "source": [
    "### From the above result, we see that there are 334 bakers across New York City."
   ]
  },
  {
   "cell_type": "markdown",
   "metadata": {},
   "source": [
    "Now let create a BAR PLOT to show Number of bakers for each Borough in New York City."
   ]
  },
  {
   "cell_type": "code",
   "execution_count": 43,
   "metadata": {},
   "outputs": [
    {
     "data": {
      "image/png": "[encoded data removed]",
      "text/plain": [
       "<Figure size 900x500 with 1 Axes>"
      ]
     },
     "metadata": {
      "needs_background": "light"
     },
     "output_type": "display_data"
    }
   ],
   "source": [
    "plt.figure(figsize=(9,5), dpi = 100)\n",
    "# title\n",
    "plt.title('Number of Bakers for each Borough in New York City')\n",
    "#On x-axis\n",
    "plt.xlabel('Borough', fontsize = 15)\n",
    "#On y-axis\n",
    "plt.ylabel('No.of Bakers', fontsize=15)\n",
    "#giving a bar plot\n",
    "bakery_ny.groupby('Borough')['ID'].count().plot(kind='bar')\n",
    "#legend\n",
    "plt.legend()\n",
    "#displays the plot\n",
    "plt.show()"
   ]
  },
  {
   "cell_type": "markdown",
   "metadata": {},
   "source": [
    "### From the above Bar Plot, we can see that Brooklyn has highest number of Bakers."
   ]
  },
  {
   "cell_type": "raw",
   "metadata": {},
   "source": []
  },
  {
   "cell_type": "code",
   "execution_count": 44,
   "metadata": {},
   "outputs": [
    {
     "data": {
      "image/png": "[encoded data removed]",
      "text/plain": [
       "<Figure size 900x500 with 1 Axes>"
      ]
     },
     "metadata": {
      "needs_background": "light"
     },
     "output_type": "display_data"
    }
   ],
   "source": [
    "plt.figure(figsize=(9,5), dpi = 100)\n",
    "# title\n",
    "plt.title('Number of Bakers for each Neighborhood in New York City')\n",
    "#On x-axis\n",
    "plt.xlabel('Neighborhood', fontsize = 15)\n",
    "#On y-axis\n",
    "plt.ylabel('No.of Bakers', fontsize=15)\n",
    "#giving a bar plot\n",
    "bakery_ny.groupby('Neighborhood')['ID'].count().nlargest(5).plot(kind='bar')\n",
    "#legend\n",
    "plt.legend()\n",
    "#displays the plot\n",
    "plt.show()"
   ]
  },
  {
   "cell_type": "code",
   "execution_count": 125,
   "metadata": {},
   "outputs": [
    {
     "data": {
      "text/html": [
       "<div>\n",
       "<style scoped>\n",
       "    .dataframe tbody tr th:only-of-type {\n",
       "        vertical-align: middle;\n",
       "    }\n",
       "\n",
       "    .dataframe tbody tr th {\n",
       "        vertical-align: top;\n",
       "    }\n",
       "\n",
       "    .dataframe thead th {\n",
       "        text-align: right;\n",
       "    }\n",
       "</style>\n",
       "<table border=\"1\" class=\"dataframe\">\n",
       "  <thead>\n",
       "    <tr style=\"text-align: right;\">\n",
       "      <th></th>\n",
       "      <th>Borough</th>\n",
       "      <th>Neighborhood</th>\n",
       "      <th>ID</th>\n",
       "      <th>Name</th>\n",
       "    </tr>\n",
       "  </thead>\n",
       "  <tbody>\n",
       "    <tr>\n",
       "      <th>58</th>\n",
       "      <td>Brooklyn</td>\n",
       "      <td>Sunset Park</td>\n",
       "      <td>4ad24975f964a520b4e020e3</td>\n",
       "      <td>La Gran Via Bakery</td>\n",
       "    </tr>\n",
       "    <tr>\n",
       "      <th>59</th>\n",
       "      <td>Brooklyn</td>\n",
       "      <td>Sunset Park</td>\n",
       "      <td>4b8d36cbf964a520bbed32e3</td>\n",
       "      <td>Don Paco Lopez Panaderia</td>\n",
       "    </tr>\n",
       "    <tr>\n",
       "      <th>60</th>\n",
       "      <td>Brooklyn</td>\n",
       "      <td>Sunset Park</td>\n",
       "      <td>4bcbb36668f976b0fcac6183</td>\n",
       "      <td>La Flor Bakery</td>\n",
       "    </tr>\n",
       "    <tr>\n",
       "      <th>61</th>\n",
       "      <td>Brooklyn</td>\n",
       "      <td>Sunset Park</td>\n",
       "      <td>4cb83ab24c60a0930e1737ca</td>\n",
       "      <td>Generoso's Bakery</td>\n",
       "    </tr>\n",
       "    <tr>\n",
       "      <th>62</th>\n",
       "      <td>Brooklyn</td>\n",
       "      <td>Sunset Park</td>\n",
       "      <td>4bc2ad2474a9a59300a9d3f6</td>\n",
       "      <td>Las Rosas Bakery</td>\n",
       "    </tr>\n",
       "    <tr>\n",
       "      <th>63</th>\n",
       "      <td>Brooklyn</td>\n",
       "      <td>Sunset Park</td>\n",
       "      <td>4bb15325f964a520608c3ce3</td>\n",
       "      <td>Savoy Bakery</td>\n",
       "    </tr>\n",
       "    <tr>\n",
       "      <th>64</th>\n",
       "      <td>Brooklyn</td>\n",
       "      <td>Sunset Park</td>\n",
       "      <td>4d0d39c0257d6dcbc1ec9a67</td>\n",
       "      <td>Xin Fa Bakery Inc.</td>\n",
       "    </tr>\n",
       "    <tr>\n",
       "      <th>65</th>\n",
       "      <td>Brooklyn</td>\n",
       "      <td>Sunset Park</td>\n",
       "      <td>5dc72748391f9900073b56cb</td>\n",
       "      <td>Paris Baguette</td>\n",
       "    </tr>\n",
       "    <tr>\n",
       "      <th>66</th>\n",
       "      <td>Brooklyn</td>\n",
       "      <td>Sunset Park</td>\n",
       "      <td>4d5cec456f6d6ea828ff69ec</td>\n",
       "      <td>Angel's Bakery</td>\n",
       "    </tr>\n",
       "  </tbody>\n",
       "</table>\n",
       "</div>"
      ],
      "text/plain": [
       "     Borough Neighborhood                        ID                      Name\n",
       "58  Brooklyn  Sunset Park  4ad24975f964a520b4e020e3        La Gran Via Bakery\n",
       "59  Brooklyn  Sunset Park  4b8d36cbf964a520bbed32e3  Don Paco Lopez Panaderia\n",
       "60  Brooklyn  Sunset Park  4bcbb36668f976b0fcac6183            La Flor Bakery\n",
       "61  Brooklyn  Sunset Park  4cb83ab24c60a0930e1737ca         Generoso's Bakery\n",
       "62  Brooklyn  Sunset Park  4bc2ad2474a9a59300a9d3f6          Las Rosas Bakery\n",
       "63  Brooklyn  Sunset Park  4bb15325f964a520608c3ce3              Savoy Bakery\n",
       "64  Brooklyn  Sunset Park  4d0d39c0257d6dcbc1ec9a67        Xin Fa Bakery Inc.\n",
       "65  Brooklyn  Sunset Park  5dc72748391f9900073b56cb            Paris Baguette\n",
       "66  Brooklyn  Sunset Park  4d5cec456f6d6ea828ff69ec            Angel's Bakery"
      ]
     },
     "execution_count": 125,
     "metadata": {},
     "output_type": "execute_result"
    }
   ],
   "source": [
    "bakery_ny[bakery_ny['Neighborhood']=='Sunset Park']\n"
   ]
  },
  {
   "cell_type": "code",
   "execution_count": 157,
   "metadata": {},
   "outputs": [
    {
     "data": {
      "text/plain": [
       "(178, 4)"
      ]
     },
     "execution_count": 157,
     "metadata": {},
     "output_type": "execute_result"
    }
   ],
   "source": [
    "bakery_ny.shape"
   ]
  },
  {
   "cell_type": "code",
   "execution_count": 158,
   "metadata": {},
   "outputs": [],
   "source": [
    "bakery_ny.drop_duplicates( subset =\"Name\", keep = False, inplace = True)"
   ]
  },
  {
   "cell_type": "markdown",
   "metadata": {},
   "source": [
    "### We can see that, Sunset Park in Brooklyn has the highest number of Bakers with a total count of 9."
   ]
  },
  {
   "cell_type": "markdown",
   "metadata": {},
   "source": [
    "Now we will get the ranking of each bakers for further analysis."
   ]
  },
  {
   "cell_type": "code",
   "execution_count": 155,
   "metadata": {},
   "outputs": [
    {
     "data": {
      "text/plain": [
       "(178, 4)"
      ]
     },
     "execution_count": 155,
     "metadata": {},
     "output_type": "execute_result"
    }
   ],
   "source": [
    "bakery_ny.shape"
   ]
  },
  {
   "cell_type": "code",
   "execution_count": 167,
   "metadata": {},
   "outputs": [
    {
     "name": "stdout",
     "output_type": "stream",
     "text": [
      "{'meta': {'code': 429, 'errorType': 'quota_exceeded', 'errorDetail': 'Quota exceeded', 'requestId': '5f36de7386af5269450be560'}, 'response': {}}\n"
     ]
    },
    {
     "ename": "KeyError",
     "evalue": "'venue'",
     "output_type": "error",
     "traceback": [
      "\u001b[1;31m---------------------------------------------------------------------------\u001b[0m",
      "\u001b[1;31mKeyError\u001b[0m                                  Traceback (most recent call last)",
      "\u001b[1;32m<ipython-input-167-213e5113b523>\u001b[0m in \u001b[0;36m<module>\u001b[1;34m\u001b[0m\n\u001b[0;32m      8\u001b[0m     \u001b[0mBorough\u001b[0m\u001b[1;33m,\u001b[0m\u001b[0mNeighborhood\u001b[0m\u001b[1;33m,\u001b[0m\u001b[0mID\u001b[0m\u001b[1;33m,\u001b[0m\u001b[0mName\u001b[0m\u001b[1;33m=\u001b[0m\u001b[0mrow\u001b[0m\u001b[1;33m\u001b[0m\u001b[1;33m\u001b[0m\u001b[0m\n\u001b[0;32m      9\u001b[0m     \u001b[1;32mtry\u001b[0m\u001b[1;33m:\u001b[0m\u001b[1;33m\u001b[0m\u001b[1;33m\u001b[0m\u001b[0m\n\u001b[1;32m---> 10\u001b[1;33m         \u001b[0mvenue_details\u001b[0m\u001b[1;33m=\u001b[0m\u001b[0mget_venue_details\u001b[0m\u001b[1;33m(\u001b[0m\u001b[0mID\u001b[0m\u001b[1;33m)\u001b[0m\u001b[1;33m\u001b[0m\u001b[1;33m\u001b[0m\u001b[0m\n\u001b[0m\u001b[0;32m     11\u001b[0m \u001b[1;33m\u001b[0m\u001b[0m\n\u001b[0;32m     12\u001b[0m         \u001b[0mid\u001b[0m\u001b[1;33m,\u001b[0m\u001b[0mname\u001b[0m\u001b[1;33m,\u001b[0m\u001b[0mlikes\u001b[0m\u001b[1;33m,\u001b[0m\u001b[0mrating\u001b[0m\u001b[1;33m,\u001b[0m\u001b[0mtips\u001b[0m\u001b[1;33m=\u001b[0m\u001b[0mvenue_details\u001b[0m\u001b[1;33m.\u001b[0m\u001b[0mvalues\u001b[0m\u001b[1;33m.\u001b[0m\u001b[0mtolist\u001b[0m\u001b[1;33m(\u001b[0m\u001b[1;33m)\u001b[0m\u001b[1;33m[\u001b[0m\u001b[1;36m0\u001b[0m\u001b[1;33m]\u001b[0m\u001b[1;33m\u001b[0m\u001b[1;33m\u001b[0m\u001b[0m\n",
      "\u001b[1;32m<ipython-input-165-d6c4f46c5d2b>\u001b[0m in \u001b[0;36mget_venue_details\u001b[1;34m(venue_id)\u001b[0m\n\u001b[0;32m     16\u001b[0m     \u001b[0mprint\u001b[0m\u001b[1;33m(\u001b[0m\u001b[0mresults\u001b[0m\u001b[1;33m)\u001b[0m\u001b[1;33m\u001b[0m\u001b[1;33m\u001b[0m\u001b[0m\n\u001b[0;32m     17\u001b[0m \u001b[1;33m\u001b[0m\u001b[0m\n\u001b[1;32m---> 18\u001b[1;33m     \u001b[0mvenue_data\u001b[0m\u001b[1;33m=\u001b[0m\u001b[0mresults\u001b[0m\u001b[1;33m[\u001b[0m\u001b[1;34m'response'\u001b[0m\u001b[1;33m]\u001b[0m\u001b[1;33m[\u001b[0m\u001b[1;34m'venue'\u001b[0m\u001b[1;33m]\u001b[0m\u001b[1;33m\u001b[0m\u001b[1;33m\u001b[0m\u001b[0m\n\u001b[0m\u001b[0;32m     19\u001b[0m     \u001b[0mvenue_details\u001b[0m\u001b[1;33m=\u001b[0m\u001b[1;33m[\u001b[0m\u001b[1;33m]\u001b[0m\u001b[1;33m\u001b[0m\u001b[1;33m\u001b[0m\u001b[0m\n\u001b[0;32m     20\u001b[0m     \u001b[1;32mtry\u001b[0m\u001b[1;33m:\u001b[0m\u001b[1;33m\u001b[0m\u001b[1;33m\u001b[0m\u001b[0m\n",
      "\u001b[1;31mKeyError\u001b[0m: 'venue'"
     ]
    }
   ],
   "source": [
    "# prepare neighborhood list that contains indian resturants\n",
    "column_names=['Borough', 'Neighborhood', 'ID','Name','Likes','Rating','Tips']\n",
    "bakery_stats_ny=pd.DataFrame(columns=column_names)\n",
    "count=1\n",
    "\n",
    "\n",
    "for row in bakery_ny.values.tolist():\n",
    "    Borough,Neighborhood,ID,Name=row\n",
    "    try:\n",
    "        venue_details=get_venue_details(ID)\n",
    "       \n",
    "        id,name,likes,rating,tips=venue_details.values.tolist()[0]\n",
    "    except IndexError:\n",
    "        print('No data available for id=',ID)\n",
    "        # we will assign 0 value for these resturants as they may have been \n",
    "        #recently opened or details does not exist in FourSquare Database\n",
    "        id,name,likes,rating,tips=[0]*5\n",
    "    print('(',count,'/',len(bakery_ny),')','processed')\n",
    "    bakery_stats_ny = bakery_stats_ny.append({'Borough': Borough,\n",
    "                                                'Neighborhood': Neighborhood, \n",
    "                                                'ID': id,\n",
    "                                                'Name' : name,\n",
    "                                                'Likes' : likes,\n",
    "                                                'Rating' : rating,\n",
    "                                                'Tips' : tips\n",
    "                                               }, ignore_index=True)\n",
    "    count+=1"
   ]
  },
  {
   "cell_type": "code",
   "execution_count": 161,
   "metadata": {},
   "outputs": [
    {
     "data": {
      "text/html": [
       "<div>\n",
       "<style scoped>\n",
       "    .dataframe tbody tr th:only-of-type {\n",
       "        vertical-align: middle;\n",
       "    }\n",
       "\n",
       "    .dataframe tbody tr th {\n",
       "        vertical-align: top;\n",
       "    }\n",
       "\n",
       "    .dataframe thead th {\n",
       "        text-align: right;\n",
       "    }\n",
       "</style>\n",
       "<table border=\"1\" class=\"dataframe\">\n",
       "  <thead>\n",
       "    <tr style=\"text-align: right;\">\n",
       "      <th></th>\n",
       "      <th>Borough</th>\n",
       "      <th>Neighborhood</th>\n",
       "      <th>ID</th>\n",
       "      <th>Name</th>\n",
       "      <th>Likes</th>\n",
       "      <th>Rating</th>\n",
       "      <th>Tips</th>\n",
       "    </tr>\n",
       "  </thead>\n",
       "  <tbody>\n",
       "  </tbody>\n",
       "</table>\n",
       "</div>"
      ],
      "text/plain": [
       "Empty DataFrame\n",
       "Columns: [Borough, Neighborhood, ID, Name, Likes, Rating, Tips]\n",
       "Index: []"
      ]
     },
     "execution_count": 161,
     "metadata": {},
     "output_type": "execute_result"
    }
   ],
   "source": [
    "bakery_stats_ny.head()"
   ]
  },
  {
   "cell_type": "code",
   "execution_count": null,
   "metadata": {},
   "outputs": [],
   "source": [
    "bakery_stats_ny.shape"
   ]
  },
  {
   "cell_type": "markdown",
   "metadata": {},
   "source": [
    "Now that we got data for all bakers Now lets save this data to a csv sheet. In case we by mistake modify it. As the number of calls to get details for venue are premium call and have limit of 500 per day, we will refer to saved data sheet csv if required."
   ]
  },
  {
   "cell_type": "code",
   "execution_count": 35,
   "metadata": {},
   "outputs": [],
   "source": [
    "bakery_stats_ny.to_csv('bakery_stats_ny.csv', index=False)"
   ]
  },
  {
   "cell_type": "markdown",
   "metadata": {},
   "source": [
    "Lets verify the data from saved csv file."
   ]
  },
  {
   "cell_type": "code",
   "execution_count": 168,
   "metadata": {},
   "outputs": [],
   "source": [
    "bakery_stats_ny_csv=pd.read_csv('bakery_stats_ny.csv')"
   ]
  },
  {
   "cell_type": "code",
   "execution_count": 169,
   "metadata": {},
   "outputs": [
    {
     "data": {
      "text/plain": [
       "(50, 7)"
      ]
     },
     "execution_count": 169,
     "metadata": {},
     "output_type": "execute_result"
    }
   ],
   "source": [
    "bakery_stats_ny_csv.shape"
   ]
  },
  {
   "cell_type": "code",
   "execution_count": 170,
   "metadata": {},
   "outputs": [
    {
     "data": {
      "text/html": [
       "<div>\n",
       "<style scoped>\n",
       "    .dataframe tbody tr th:only-of-type {\n",
       "        vertical-align: middle;\n",
       "    }\n",
       "\n",
       "    .dataframe tbody tr th {\n",
       "        vertical-align: top;\n",
       "    }\n",
       "\n",
       "    .dataframe thead th {\n",
       "        text-align: right;\n",
       "    }\n",
       "</style>\n",
       "<table border=\"1\" class=\"dataframe\">\n",
       "  <thead>\n",
       "    <tr style=\"text-align: right;\">\n",
       "      <th></th>\n",
       "      <th>Borough</th>\n",
       "      <th>Neighborhood</th>\n",
       "      <th>ID</th>\n",
       "      <th>Name</th>\n",
       "      <th>Likes</th>\n",
       "      <th>Rating</th>\n",
       "      <th>Tips</th>\n",
       "    </tr>\n",
       "  </thead>\n",
       "  <tbody>\n",
       "    <tr>\n",
       "      <th>0</th>\n",
       "      <td>Bronx</td>\n",
       "      <td>Wakefield</td>\n",
       "      <td>4cd3edd25366548131a129ed</td>\n",
       "      <td>E&amp;L Bakery</td>\n",
       "      <td>7</td>\n",
       "      <td>6.5</td>\n",
       "      <td>4</td>\n",
       "    </tr>\n",
       "    <tr>\n",
       "      <th>1</th>\n",
       "      <td>Bronx</td>\n",
       "      <td>Wakefield</td>\n",
       "      <td>0</td>\n",
       "      <td>0</td>\n",
       "      <td>0</td>\n",
       "      <td>0.0</td>\n",
       "      <td>0</td>\n",
       "    </tr>\n",
       "    <tr>\n",
       "      <th>2</th>\n",
       "      <td>Bronx</td>\n",
       "      <td>Co-op City</td>\n",
       "      <td>4a720b8ef964a52036da1fe3</td>\n",
       "      <td>Panera Bread</td>\n",
       "      <td>118</td>\n",
       "      <td>8.3</td>\n",
       "      <td>38</td>\n",
       "    </tr>\n",
       "    <tr>\n",
       "      <th>3</th>\n",
       "      <td>Bronx</td>\n",
       "      <td>Co-op City</td>\n",
       "      <td>4c433c8fce54e21ef8c50d1a</td>\n",
       "      <td>The Cookie Factory</td>\n",
       "      <td>7</td>\n",
       "      <td>8.1</td>\n",
       "      <td>4</td>\n",
       "    </tr>\n",
       "    <tr>\n",
       "      <th>4</th>\n",
       "      <td>Bronx</td>\n",
       "      <td>Co-op City</td>\n",
       "      <td>0</td>\n",
       "      <td>0</td>\n",
       "      <td>0</td>\n",
       "      <td>0.0</td>\n",
       "      <td>0</td>\n",
       "    </tr>\n",
       "  </tbody>\n",
       "</table>\n",
       "</div>"
      ],
      "text/plain": [
       "  Borough Neighborhood                        ID                Name  Likes  \\\n",
       "0   Bronx    Wakefield  4cd3edd25366548131a129ed          E&L Bakery      7   \n",
       "1   Bronx    Wakefield                         0                   0      0   \n",
       "2   Bronx   Co-op City  4a720b8ef964a52036da1fe3        Panera Bread    118   \n",
       "3   Bronx   Co-op City  4c433c8fce54e21ef8c50d1a  The Cookie Factory      7   \n",
       "4   Bronx   Co-op City                         0                   0      0   \n",
       "\n",
       "   Rating  Tips  \n",
       "0     6.5     4  \n",
       "1     0.0     0  \n",
       "2     8.3    38  \n",
       "3     8.1     4  \n",
       "4     0.0     0  "
      ]
     },
     "execution_count": 170,
     "metadata": {},
     "output_type": "execute_result"
    }
   ],
   "source": [
    "bakery_stats_ny_csv.head()"
   ]
  },
  {
   "cell_type": "code",
   "execution_count": 172,
   "metadata": {},
   "outputs": [
    {
     "name": "stdout",
     "output_type": "stream",
     "text": [
      "<class 'pandas.core.frame.DataFrame'>\n",
      "RangeIndex: 50 entries, 0 to 49\n",
      "Data columns (total 7 columns):\n",
      " #   Column        Non-Null Count  Dtype  \n",
      "---  ------        --------------  -----  \n",
      " 0   Borough       50 non-null     object \n",
      " 1   Neighborhood  50 non-null     object \n",
      " 2   ID            50 non-null     object \n",
      " 3   Name          50 non-null     object \n",
      " 4   Likes         50 non-null     int64  \n",
      " 5   Rating        50 non-null     float64\n",
      " 6   Tips          50 non-null     int64  \n",
      "dtypes: float64(1), int64(2), object(4)\n",
      "memory usage: 2.9+ KB\n"
     ]
    }
   ],
   "source": [
    "bakery_stats_ny_csv.info()"
   ]
  },
  {
   "cell_type": "markdown",
   "metadata": {},
   "source": [
    "The Data type of 'Likes' and  'Tips' are of type 'String'. we will convert them into type 'Float' for further analysis."
   ]
  },
  {
   "cell_type": "code",
   "execution_count": 173,
   "metadata": {},
   "outputs": [],
   "source": [
    "bakery_stats_ny_csv['Likes']=bakery_stats_ny_csv['Likes'].astype('float64')\n",
    "bakery_stats_ny_csv['Tips']=bakery_stats_ny_csv['Tips'].astype('float64')"
   ]
  },
  {
   "cell_type": "code",
   "execution_count": 174,
   "metadata": {},
   "outputs": [
    {
     "name": "stdout",
     "output_type": "stream",
     "text": [
      "<class 'pandas.core.frame.DataFrame'>\n",
      "RangeIndex: 50 entries, 0 to 49\n",
      "Data columns (total 7 columns):\n",
      " #   Column        Non-Null Count  Dtype  \n",
      "---  ------        --------------  -----  \n",
      " 0   Borough       50 non-null     object \n",
      " 1   Neighborhood  50 non-null     object \n",
      " 2   ID            50 non-null     object \n",
      " 3   Name          50 non-null     object \n",
      " 4   Likes         50 non-null     float64\n",
      " 5   Rating        50 non-null     float64\n",
      " 6   Tips          50 non-null     float64\n",
      "dtypes: float64(3), object(4)\n",
      "memory usage: 2.9+ KB\n"
     ]
    }
   ],
   "source": [
    "bakery_stats_ny_csv.info()"
   ]
  },
  {
   "cell_type": "markdown",
   "metadata": {},
   "source": [
    "Now we will find the Indian restuarants with Maximum Likes, Maximum Ratings and Maximum Tips."
   ]
  },
  {
   "cell_type": "code",
   "execution_count": 175,
   "metadata": {},
   "outputs": [
    {
     "data": {
      "text/plain": [
       "Borough                            Bronx\n",
       "Neighborhood                  Co-op City\n",
       "ID              4a720b8ef964a52036da1fe3\n",
       "Name                        Panera Bread\n",
       "Likes                                118\n",
       "Rating                               8.3\n",
       "Tips                                  38\n",
       "Name: 2, dtype: object"
      ]
     },
     "execution_count": 175,
     "metadata": {},
     "output_type": "execute_result"
    }
   ],
   "source": [
    "# bakers with maximum Likes\n",
    "bakery_stats_ny_csv.iloc[indian_rest_stats_ny_csv['Likes'].idxmax()]"
   ]
  },
  {
   "cell_type": "code",
   "execution_count": 176,
   "metadata": {},
   "outputs": [
    {
     "data": {
      "text/plain": [
       "Borough                                  Bronx\n",
       "Neighborhood                      Country Club\n",
       "ID                    4c9205941adc370460a134d1\n",
       "Name            Zeppieri & Sons Italian Bakery\n",
       "Likes                                       32\n",
       "Rating                                     9.2\n",
       "Tips                                        11\n",
       "Name: 28, dtype: object"
      ]
     },
     "execution_count": 176,
     "metadata": {},
     "output_type": "execute_result"
    }
   ],
   "source": [
    "# Bakers with maximum Rating\n",
    "bakery_stats_ny_csv.iloc[indian_rest_stats_ny_csv['Rating'].idxmax()]"
   ]
  },
  {
   "cell_type": "code",
   "execution_count": 30,
   "metadata": {},
   "outputs": [
    {
     "data": {
      "text/plain": [
       "Borough                        Manhattan\n",
       "Neighborhood                     Midtown\n",
       "ID              49d91c12f964a520015e1fe3\n",
       "Name               The Kati Roll Company\n",
       "Likes                                837\n",
       "Rating                               8.8\n",
       "Tips                                 260\n",
       "Name: 37, dtype: object"
      ]
     },
     "execution_count": 30,
     "metadata": {},
     "output_type": "execute_result"
    }
   ],
   "source": [
    "# bakers with maximum Tips\n",
    "bakery_stats_ny.iloc[bakery_stats_ny['Tips'].idxmax()]"
   ]
  },
  {
   "cell_type": "markdown",
   "metadata": {},
   "source": [
    "Next lets visualize neighborhood with maximum average rating of bakers."
   ]
  },
  {
   "cell_type": "code",
   "execution_count": 177,
   "metadata": {},
   "outputs": [],
   "source": [
    "ny_neighborhood_stats_csv=bakery_stats_ny_csv.groupby('Neighborhood',as_index=False).mean()[['Neighborhood','Rating']]\n",
    "ny_neighborhood_stats_csv.columns=['Neighborhood','Average Rating']"
   ]
  },
  {
   "cell_type": "code",
   "execution_count": 178,
   "metadata": {},
   "outputs": [
    {
     "data": {
      "text/html": [
       "<div>\n",
       "<style scoped>\n",
       "    .dataframe tbody tr th:only-of-type {\n",
       "        vertical-align: middle;\n",
       "    }\n",
       "\n",
       "    .dataframe tbody tr th {\n",
       "        vertical-align: top;\n",
       "    }\n",
       "\n",
       "    .dataframe thead th {\n",
       "        text-align: right;\n",
       "    }\n",
       "</style>\n",
       "<table border=\"1\" class=\"dataframe\">\n",
       "  <thead>\n",
       "    <tr style=\"text-align: right;\">\n",
       "      <th></th>\n",
       "      <th>Neighborhood</th>\n",
       "      <th>Average Rating</th>\n",
       "    </tr>\n",
       "  </thead>\n",
       "  <tbody>\n",
       "    <tr>\n",
       "      <th>25</th>\n",
       "      <td>Woodlawn</td>\n",
       "      <td>8.800000</td>\n",
       "    </tr>\n",
       "    <tr>\n",
       "      <th>14</th>\n",
       "      <td>Melrose</td>\n",
       "      <td>8.800000</td>\n",
       "    </tr>\n",
       "    <tr>\n",
       "      <th>12</th>\n",
       "      <td>Longwood</td>\n",
       "      <td>8.800000</td>\n",
       "    </tr>\n",
       "    <tr>\n",
       "      <th>8</th>\n",
       "      <td>Fieldston</td>\n",
       "      <td>8.700000</td>\n",
       "    </tr>\n",
       "    <tr>\n",
       "      <th>0</th>\n",
       "      <td>Bay Ridge</td>\n",
       "      <td>8.500000</td>\n",
       "    </tr>\n",
       "    <tr>\n",
       "      <th>10</th>\n",
       "      <td>Hunts Point</td>\n",
       "      <td>8.100000</td>\n",
       "    </tr>\n",
       "    <tr>\n",
       "      <th>2</th>\n",
       "      <td>Belmont</td>\n",
       "      <td>8.083333</td>\n",
       "    </tr>\n",
       "    <tr>\n",
       "      <th>5</th>\n",
       "      <td>Country Club</td>\n",
       "      <td>8.033333</td>\n",
       "    </tr>\n",
       "    <tr>\n",
       "      <th>17</th>\n",
       "      <td>Pelham Bay</td>\n",
       "      <td>8.033333</td>\n",
       "    </tr>\n",
       "    <tr>\n",
       "      <th>23</th>\n",
       "      <td>Westchester Square</td>\n",
       "      <td>7.900000</td>\n",
       "    </tr>\n",
       "  </tbody>\n",
       "</table>\n",
       "</div>"
      ],
      "text/plain": [
       "          Neighborhood  Average Rating\n",
       "25            Woodlawn        8.800000\n",
       "14             Melrose        8.800000\n",
       "12            Longwood        8.800000\n",
       "8            Fieldston        8.700000\n",
       "0            Bay Ridge        8.500000\n",
       "10         Hunts Point        8.100000\n",
       "2              Belmont        8.083333\n",
       "5         Country Club        8.033333\n",
       "17          Pelham Bay        8.033333\n",
       "23  Westchester Square        7.900000"
      ]
     },
     "execution_count": 178,
     "metadata": {},
     "output_type": "execute_result"
    }
   ],
   "source": [
    "ny_neighborhood_stats_csv.sort_values(['Average Rating'],ascending=False).head(10)\n"
   ]
  },
  {
   "cell_type": "markdown",
   "metadata": {},
   "source": [
    "### Above are the top neighborhoods with top average rating of Bakers."
   ]
  },
  {
   "cell_type": "markdown",
   "metadata": {},
   "source": [
    "Similarly we will find the average rating of bakers for each Borough."
   ]
  },
  {
   "cell_type": "code",
   "execution_count": 179,
   "metadata": {},
   "outputs": [],
   "source": [
    "ny_borough_stats=bakery_stats_ny_csv.groupby('Borough',as_index=False).mean()[['Borough','Rating']]\n",
    "ny_borough_stats.columns=['Borough','Average Rating']"
   ]
  },
  {
   "cell_type": "code",
   "execution_count": 180,
   "metadata": {},
   "outputs": [
    {
     "data": {
      "text/html": [
       "<div>\n",
       "<style scoped>\n",
       "    .dataframe tbody tr th:only-of-type {\n",
       "        vertical-align: middle;\n",
       "    }\n",
       "\n",
       "    .dataframe tbody tr th {\n",
       "        vertical-align: top;\n",
       "    }\n",
       "\n",
       "    .dataframe thead th {\n",
       "        text-align: right;\n",
       "    }\n",
       "</style>\n",
       "<table border=\"1\" class=\"dataframe\">\n",
       "  <thead>\n",
       "    <tr style=\"text-align: right;\">\n",
       "      <th></th>\n",
       "      <th>Borough</th>\n",
       "      <th>Average Rating</th>\n",
       "    </tr>\n",
       "  </thead>\n",
       "  <tbody>\n",
       "    <tr>\n",
       "      <th>1</th>\n",
       "      <td>Brooklyn</td>\n",
       "      <td>8.500000</td>\n",
       "    </tr>\n",
       "    <tr>\n",
       "      <th>2</th>\n",
       "      <td>Manhattan</td>\n",
       "      <td>7.100000</td>\n",
       "    </tr>\n",
       "    <tr>\n",
       "      <th>0</th>\n",
       "      <td>Bronx</td>\n",
       "      <td>6.525532</td>\n",
       "    </tr>\n",
       "  </tbody>\n",
       "</table>\n",
       "</div>"
      ],
      "text/plain": [
       "     Borough  Average Rating\n",
       "1   Brooklyn        8.500000\n",
       "2  Manhattan        7.100000\n",
       "0      Bronx        6.525532"
      ]
     },
     "execution_count": 180,
     "metadata": {},
     "output_type": "execute_result"
    }
   ],
   "source": [
    "ny_borough_stats.sort_values(['Average Rating'],ascending=False).head()"
   ]
  },
  {
   "cell_type": "code",
   "execution_count": 73,
   "metadata": {},
   "outputs": [
    {
     "ename": "TypeError",
     "evalue": "'DataFrame' object is not callable",
     "output_type": "error",
     "traceback": [
      "\u001b[1;31m---------------------------------------------------------------------------\u001b[0m",
      "\u001b[1;31mTypeError\u001b[0m                                 Traceback (most recent call last)",
      "\u001b[1;32m<ipython-input-73-04ccdbc7e970>\u001b[0m in \u001b[0;36m<module>\u001b[1;34m\u001b[0m\n\u001b[1;32m----> 1\u001b[1;33m \u001b[0mny_neighborhood_stats\u001b[0m\u001b[1;33m(\u001b[0m\u001b[0mny_neighborhood_stats\u001b[0m\u001b[1;33m[\u001b[0m\u001b[1;34m'Average Rating'\u001b[0m\u001b[1;33m]\u001b[0m\u001b[1;33m>=\u001b[0m\u001b[1;36m7.0\u001b[0m\u001b[1;33m)\u001b[0m\u001b[1;33m.\u001b[0m\u001b[0mshape\u001b[0m\u001b[1;33m\u001b[0m\u001b[1;33m\u001b[0m\u001b[0m\n\u001b[0m",
      "\u001b[1;31mTypeError\u001b[0m: 'DataFrame' object is not callable"
     ]
    }
   ],
   "source": []
  },
  {
   "cell_type": "markdown",
   "metadata": {},
   "source": [
    "Lets Visualize it."
   ]
  },
  {
   "cell_type": "code",
   "execution_count": 67,
   "metadata": {},
   "outputs": [
    {
     "data": {
      "image/png": "[encoded data removed]",
      "text/plain": [
       "<Figure size 900x500 with 1 Axes>"
      ]
     },
     "metadata": {
      "needs_background": "light"
     },
     "output_type": "display_data"
    }
   ],
   "source": [
    "plt.figure(figsize=(9,5), dpi = 100)\n",
    "# title\n",
    "plt.title('Average rating of Bakery for each Borough')\n",
    "#On x-axis\n",
    "plt.xlabel('Borough', fontsize = 15)\n",
    "#On y-axis\n",
    "plt.ylabel('Average Rating', fontsize=15)\n",
    "#giving a bar plot\n",
    "indian_rest_stats_ny_csv.groupby('Borough').mean()['Rating'].plot(kind='bar')\n",
    "#legend\n",
    "plt.legend()\n",
    "#displays the plot\n",
    "plt.show()"
   ]
  },
  {
   "cell_type": "markdown",
   "metadata": {},
   "source": [
    "We will consider all the neighborhoods with average rating greater or equal 9.0 to visualize on map."
   ]
  },
  {
   "cell_type": "code",
   "execution_count": 182,
   "metadata": {},
   "outputs": [
    {
     "data": {
      "text/html": [
       "<div>\n",
       "<style scoped>\n",
       "    .dataframe tbody tr th:only-of-type {\n",
       "        vertical-align: middle;\n",
       "    }\n",
       "\n",
       "    .dataframe tbody tr th {\n",
       "        vertical-align: top;\n",
       "    }\n",
       "\n",
       "    .dataframe thead th {\n",
       "        text-align: right;\n",
       "    }\n",
       "</style>\n",
       "<table border=\"1\" class=\"dataframe\">\n",
       "  <thead>\n",
       "    <tr style=\"text-align: right;\">\n",
       "      <th></th>\n",
       "      <th>Neighborhood</th>\n",
       "      <th>Average Rating</th>\n",
       "    </tr>\n",
       "  </thead>\n",
       "  <tbody>\n",
       "    <tr>\n",
       "      <th>0</th>\n",
       "      <td>Bay Ridge</td>\n",
       "      <td>8.500000</td>\n",
       "    </tr>\n",
       "    <tr>\n",
       "      <th>1</th>\n",
       "      <td>Baychester</td>\n",
       "      <td>7.550000</td>\n",
       "    </tr>\n",
       "    <tr>\n",
       "      <th>2</th>\n",
       "      <td>Belmont</td>\n",
       "      <td>8.083333</td>\n",
       "    </tr>\n",
       "    <tr>\n",
       "      <th>3</th>\n",
       "      <td>Co-op City</td>\n",
       "      <td>5.466667</td>\n",
       "    </tr>\n",
       "    <tr>\n",
       "      <th>4</th>\n",
       "      <td>Concourse</td>\n",
       "      <td>7.100000</td>\n",
       "    </tr>\n",
       "    <tr>\n",
       "      <th>5</th>\n",
       "      <td>Country Club</td>\n",
       "      <td>8.033333</td>\n",
       "    </tr>\n",
       "    <tr>\n",
       "      <th>6</th>\n",
       "      <td>Eastchester</td>\n",
       "      <td>4.300000</td>\n",
       "    </tr>\n",
       "    <tr>\n",
       "      <th>7</th>\n",
       "      <td>Edenwald</td>\n",
       "      <td>2.300000</td>\n",
       "    </tr>\n",
       "    <tr>\n",
       "      <th>8</th>\n",
       "      <td>Fieldston</td>\n",
       "      <td>8.700000</td>\n",
       "    </tr>\n",
       "    <tr>\n",
       "      <th>9</th>\n",
       "      <td>Fordham</td>\n",
       "      <td>7.700000</td>\n",
       "    </tr>\n",
       "    <tr>\n",
       "      <th>10</th>\n",
       "      <td>Hunts Point</td>\n",
       "      <td>8.100000</td>\n",
       "    </tr>\n",
       "    <tr>\n",
       "      <th>11</th>\n",
       "      <td>Kingsbridge</td>\n",
       "      <td>7.550000</td>\n",
       "    </tr>\n",
       "    <tr>\n",
       "      <th>12</th>\n",
       "      <td>Longwood</td>\n",
       "      <td>8.800000</td>\n",
       "    </tr>\n",
       "    <tr>\n",
       "      <th>13</th>\n",
       "      <td>Marble Hill</td>\n",
       "      <td>7.100000</td>\n",
       "    </tr>\n",
       "    <tr>\n",
       "      <th>14</th>\n",
       "      <td>Melrose</td>\n",
       "      <td>8.800000</td>\n",
       "    </tr>\n",
       "    <tr>\n",
       "      <th>15</th>\n",
       "      <td>Morris Park</td>\n",
       "      <td>6.600000</td>\n",
       "    </tr>\n",
       "    <tr>\n",
       "      <th>16</th>\n",
       "      <td>Olinville</td>\n",
       "      <td>0.000000</td>\n",
       "    </tr>\n",
       "    <tr>\n",
       "      <th>17</th>\n",
       "      <td>Pelham Bay</td>\n",
       "      <td>8.033333</td>\n",
       "    </tr>\n",
       "    <tr>\n",
       "      <th>18</th>\n",
       "      <td>Pelham Gardens</td>\n",
       "      <td>6.200000</td>\n",
       "    </tr>\n",
       "    <tr>\n",
       "      <th>19</th>\n",
       "      <td>Pelham Parkway</td>\n",
       "      <td>6.466667</td>\n",
       "    </tr>\n",
       "    <tr>\n",
       "      <th>20</th>\n",
       "      <td>Port Morris</td>\n",
       "      <td>0.000000</td>\n",
       "    </tr>\n",
       "    <tr>\n",
       "      <th>21</th>\n",
       "      <td>University Heights</td>\n",
       "      <td>6.300000</td>\n",
       "    </tr>\n",
       "    <tr>\n",
       "      <th>22</th>\n",
       "      <td>Wakefield</td>\n",
       "      <td>3.250000</td>\n",
       "    </tr>\n",
       "    <tr>\n",
       "      <th>23</th>\n",
       "      <td>Westchester Square</td>\n",
       "      <td>7.900000</td>\n",
       "    </tr>\n",
       "    <tr>\n",
       "      <th>24</th>\n",
       "      <td>Williamsbridge</td>\n",
       "      <td>7.566667</td>\n",
       "    </tr>\n",
       "    <tr>\n",
       "      <th>25</th>\n",
       "      <td>Woodlawn</td>\n",
       "      <td>8.800000</td>\n",
       "    </tr>\n",
       "  </tbody>\n",
       "</table>\n",
       "</div>"
      ],
      "text/plain": [
       "          Neighborhood  Average Rating\n",
       "0            Bay Ridge        8.500000\n",
       "1           Baychester        7.550000\n",
       "2              Belmont        8.083333\n",
       "3           Co-op City        5.466667\n",
       "4            Concourse        7.100000\n",
       "5         Country Club        8.033333\n",
       "6          Eastchester        4.300000\n",
       "7             Edenwald        2.300000\n",
       "8            Fieldston        8.700000\n",
       "9              Fordham        7.700000\n",
       "10         Hunts Point        8.100000\n",
       "11         Kingsbridge        7.550000\n",
       "12            Longwood        8.800000\n",
       "13         Marble Hill        7.100000\n",
       "14             Melrose        8.800000\n",
       "15         Morris Park        6.600000\n",
       "16           Olinville        0.000000\n",
       "17          Pelham Bay        8.033333\n",
       "18      Pelham Gardens        6.200000\n",
       "19      Pelham Parkway        6.466667\n",
       "20         Port Morris        0.000000\n",
       "21  University Heights        6.300000\n",
       "22           Wakefield        3.250000\n",
       "23  Westchester Square        7.900000\n",
       "24      Williamsbridge        7.566667\n",
       "25            Woodlawn        8.800000"
      ]
     },
     "execution_count": 182,
     "metadata": {},
     "output_type": "execute_result"
    }
   ],
   "source": [
    "ny_neighborhood_stats_csv"
   ]
  },
  {
   "cell_type": "code",
   "execution_count": 183,
   "metadata": {},
   "outputs": [],
   "source": [
    "ny_neighborhood_stats1=ny_neighborhood_stats_csv[ny_neighborhood_stats_csv['Average Rating']>=7.0]"
   ]
  },
  {
   "cell_type": "code",
   "execution_count": null,
   "metadata": {},
   "outputs": [],
   "source": []
  },
  {
   "cell_type": "code",
   "execution_count": 184,
   "metadata": {},
   "outputs": [
    {
     "data": {
      "text/plain": [
       "(16, 2)"
      ]
     },
     "execution_count": 184,
     "metadata": {},
     "output_type": "execute_result"
    }
   ],
   "source": [
    "ny_neighborhood_stats1.shape"
   ]
  },
  {
   "cell_type": "markdown",
   "metadata": {},
   "source": [
    "We will join this dataset to original new york data to get lonitude and latitude."
   ]
  },
  {
   "cell_type": "code",
   "execution_count": 185,
   "metadata": {},
   "outputs": [],
   "source": [
    "ny_neighborhood_stats1=pd.merge(ny_neighborhood_stats1,new_york_data, on='Neighborhood')"
   ]
  },
  {
   "cell_type": "code",
   "execution_count": 186,
   "metadata": {},
   "outputs": [],
   "source": [
    "ny_neighborhood_stats1=ny_neighborhood_stats1[['Borough','Neighborhood','Latitude','Longitude','Average Rating']]"
   ]
  },
  {
   "cell_type": "code",
   "execution_count": 187,
   "metadata": {},
   "outputs": [
    {
     "data": {
      "text/html": [
       "<div>\n",
       "<style scoped>\n",
       "    .dataframe tbody tr th:only-of-type {\n",
       "        vertical-align: middle;\n",
       "    }\n",
       "\n",
       "    .dataframe tbody tr th {\n",
       "        vertical-align: top;\n",
       "    }\n",
       "\n",
       "    .dataframe thead th {\n",
       "        text-align: right;\n",
       "    }\n",
       "</style>\n",
       "<table border=\"1\" class=\"dataframe\">\n",
       "  <thead>\n",
       "    <tr style=\"text-align: right;\">\n",
       "      <th></th>\n",
       "      <th>Borough</th>\n",
       "      <th>Neighborhood</th>\n",
       "      <th>Latitude</th>\n",
       "      <th>Longitude</th>\n",
       "      <th>Average Rating</th>\n",
       "    </tr>\n",
       "  </thead>\n",
       "  <tbody>\n",
       "    <tr>\n",
       "      <th>0</th>\n",
       "      <td>Brooklyn</td>\n",
       "      <td>Bay Ridge</td>\n",
       "      <td>40.625801</td>\n",
       "      <td>-74.030621</td>\n",
       "      <td>8.500000</td>\n",
       "    </tr>\n",
       "    <tr>\n",
       "      <th>1</th>\n",
       "      <td>Bronx</td>\n",
       "      <td>Baychester</td>\n",
       "      <td>40.866858</td>\n",
       "      <td>-73.835798</td>\n",
       "      <td>7.550000</td>\n",
       "    </tr>\n",
       "    <tr>\n",
       "      <th>2</th>\n",
       "      <td>Bronx</td>\n",
       "      <td>Belmont</td>\n",
       "      <td>40.857277</td>\n",
       "      <td>-73.888452</td>\n",
       "      <td>8.083333</td>\n",
       "    </tr>\n",
       "    <tr>\n",
       "      <th>3</th>\n",
       "      <td>Bronx</td>\n",
       "      <td>Concourse</td>\n",
       "      <td>40.834284</td>\n",
       "      <td>-73.915589</td>\n",
       "      <td>7.100000</td>\n",
       "    </tr>\n",
       "    <tr>\n",
       "      <th>4</th>\n",
       "      <td>Bronx</td>\n",
       "      <td>Country Club</td>\n",
       "      <td>40.844246</td>\n",
       "      <td>-73.824099</td>\n",
       "      <td>8.033333</td>\n",
       "    </tr>\n",
       "    <tr>\n",
       "      <th>5</th>\n",
       "      <td>Bronx</td>\n",
       "      <td>Fieldston</td>\n",
       "      <td>40.895437</td>\n",
       "      <td>-73.905643</td>\n",
       "      <td>8.700000</td>\n",
       "    </tr>\n",
       "    <tr>\n",
       "      <th>6</th>\n",
       "      <td>Bronx</td>\n",
       "      <td>Fordham</td>\n",
       "      <td>40.860997</td>\n",
       "      <td>-73.896427</td>\n",
       "      <td>7.700000</td>\n",
       "    </tr>\n",
       "    <tr>\n",
       "      <th>7</th>\n",
       "      <td>Bronx</td>\n",
       "      <td>Hunts Point</td>\n",
       "      <td>40.809730</td>\n",
       "      <td>-73.883315</td>\n",
       "      <td>8.100000</td>\n",
       "    </tr>\n",
       "    <tr>\n",
       "      <th>8</th>\n",
       "      <td>Bronx</td>\n",
       "      <td>Kingsbridge</td>\n",
       "      <td>40.881687</td>\n",
       "      <td>-73.902818</td>\n",
       "      <td>7.550000</td>\n",
       "    </tr>\n",
       "    <tr>\n",
       "      <th>9</th>\n",
       "      <td>Bronx</td>\n",
       "      <td>Longwood</td>\n",
       "      <td>40.815099</td>\n",
       "      <td>-73.895788</td>\n",
       "      <td>8.800000</td>\n",
       "    </tr>\n",
       "    <tr>\n",
       "      <th>10</th>\n",
       "      <td>Manhattan</td>\n",
       "      <td>Marble Hill</td>\n",
       "      <td>40.876551</td>\n",
       "      <td>-73.910660</td>\n",
       "      <td>7.100000</td>\n",
       "    </tr>\n",
       "    <tr>\n",
       "      <th>11</th>\n",
       "      <td>Bronx</td>\n",
       "      <td>Melrose</td>\n",
       "      <td>40.819754</td>\n",
       "      <td>-73.909422</td>\n",
       "      <td>8.800000</td>\n",
       "    </tr>\n",
       "    <tr>\n",
       "      <th>12</th>\n",
       "      <td>Bronx</td>\n",
       "      <td>Pelham Bay</td>\n",
       "      <td>40.850641</td>\n",
       "      <td>-73.832074</td>\n",
       "      <td>8.033333</td>\n",
       "    </tr>\n",
       "    <tr>\n",
       "      <th>13</th>\n",
       "      <td>Bronx</td>\n",
       "      <td>Westchester Square</td>\n",
       "      <td>40.840619</td>\n",
       "      <td>-73.842194</td>\n",
       "      <td>7.900000</td>\n",
       "    </tr>\n",
       "    <tr>\n",
       "      <th>14</th>\n",
       "      <td>Bronx</td>\n",
       "      <td>Williamsbridge</td>\n",
       "      <td>40.881039</td>\n",
       "      <td>-73.857446</td>\n",
       "      <td>7.566667</td>\n",
       "    </tr>\n",
       "    <tr>\n",
       "      <th>15</th>\n",
       "      <td>Bronx</td>\n",
       "      <td>Woodlawn</td>\n",
       "      <td>40.898273</td>\n",
       "      <td>-73.867315</td>\n",
       "      <td>8.800000</td>\n",
       "    </tr>\n",
       "  </tbody>\n",
       "</table>\n",
       "</div>"
      ],
      "text/plain": [
       "      Borough        Neighborhood   Latitude  Longitude  Average Rating\n",
       "0    Brooklyn           Bay Ridge  40.625801 -74.030621        8.500000\n",
       "1       Bronx          Baychester  40.866858 -73.835798        7.550000\n",
       "2       Bronx             Belmont  40.857277 -73.888452        8.083333\n",
       "3       Bronx           Concourse  40.834284 -73.915589        7.100000\n",
       "4       Bronx        Country Club  40.844246 -73.824099        8.033333\n",
       "5       Bronx           Fieldston  40.895437 -73.905643        8.700000\n",
       "6       Bronx             Fordham  40.860997 -73.896427        7.700000\n",
       "7       Bronx         Hunts Point  40.809730 -73.883315        8.100000\n",
       "8       Bronx         Kingsbridge  40.881687 -73.902818        7.550000\n",
       "9       Bronx            Longwood  40.815099 -73.895788        8.800000\n",
       "10  Manhattan         Marble Hill  40.876551 -73.910660        7.100000\n",
       "11      Bronx             Melrose  40.819754 -73.909422        8.800000\n",
       "12      Bronx          Pelham Bay  40.850641 -73.832074        8.033333\n",
       "13      Bronx  Westchester Square  40.840619 -73.842194        7.900000\n",
       "14      Bronx      Williamsbridge  40.881039 -73.857446        7.566667\n",
       "15      Bronx            Woodlawn  40.898273 -73.867315        8.800000"
      ]
     },
     "execution_count": 187,
     "metadata": {},
     "output_type": "execute_result"
    }
   ],
   "source": [
    "ny_neighborhood_stats1"
   ]
  },
  {
   "cell_type": "markdown",
   "metadata": {},
   "source": [
    "Finally, Let's show this data on a map."
   ]
  },
  {
   "cell_type": "code",
   "execution_count": 189,
   "metadata": {},
   "outputs": [],
   "source": [
    "ny_map = folium.Map(location=geo_location('New York'), zoom_start=12)"
   ]
  },
  {
   "cell_type": "code",
   "execution_count": 190,
   "metadata": {},
   "outputs": [],
   "source": [
    "# instantiate a feature group for the incidents in the dataframe\n",
    "incidents = folium.map.FeatureGroup()\n",
    "\n",
    "# loop through the neighborhood and add each to the feature group\n",
    "for lat, lng, in ny_neighborhood_stats1[['Latitude','Longitude']].values:\n",
    "    incidents.add_child(\n",
    "        folium.CircleMarker(\n",
    "            [lat, lng],\n",
    "            radius=10, # define how big you want the circle markers to be\n",
    "            color='yellow',\n",
    "            fill=True,\n",
    "            fill_color='blue',\n",
    "            fill_opacity=0.6\n",
    "        )\n",
    "    )"
   ]
  },
  {
   "cell_type": "markdown",
   "metadata": {},
   "source": [
    "Lets add a new field to dataframe for labeling purpose."
   ]
  },
  {
   "cell_type": "code",
   "execution_count": 191,
   "metadata": {},
   "outputs": [],
   "source": [
    "ny_neighborhood_stats1['Label']=ny_neighborhood_stats1['Neighborhood']+', '+ny_neighborhood_stats1['Borough']+'('+ny_neighborhood_stats1['Average Rating'].map(str)+')'"
   ]
  },
  {
   "cell_type": "code",
   "execution_count": 192,
   "metadata": {},
   "outputs": [
    {
     "data": {
      "text/html": [
       "<div style=\"width:100%;\"><div style=\"position:relative;width:100%;height:0;padding-bottom:60%;\"><span style=\"color:#565656\">Make this Notebook Trusted to load map: File -> Trust Notebook</span><iframe src=\"about:blank\" style=\"position:absolute;width:100%;height:100%;left:0;top:0;border:none !important;\" data-html=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 onload=\"this.contentDocument.open();this.contentDocument.write(atob(this.getAttribute('data-html')));this.contentDocument.close();\" allowfullscreen webkitallowfullscreen mozallowfullscreen></iframe></div></div>"
      ],
      "text/plain": [
       "<folium.folium.Map at 0x1d4c19a1988>"
      ]
     },
     "execution_count": 192,
     "metadata": {},
     "output_type": "execute_result"
    }
   ],
   "source": [
    "# add pop-up text to each marker on the map\n",
    "for lat, lng, label in ny_neighborhood_stats1[['Latitude','Longitude','Label']].values:\n",
    "    folium.Marker([lat, lng], popup=label).add_to(ny_map)        \n",
    "# add incidents to map\n",
    "ny_map.add_child(incidents)"
   ]
  },
  {
   "cell_type": "markdown",
   "metadata": {},
   "source": [
    "Now that we have visualized the Neighborhoods.\n",
    "Lets Visualize Boroughs based on average Rating."
   ]
  },
  {
   "cell_type": "code",
   "execution_count": 193,
   "metadata": {},
   "outputs": [],
   "source": [
    "ny_map = folium.Map(location=geo_location('New York'), zoom_start=12)\n",
    "ny_geo = r'D:\\\\downloads\\\\Borough_Boundaries.geojson'\n",
    "\n",
    "map = ny_map.choropleth(\n",
    "    geo_data=ny_geo,\n",
    "    data=ny_borough_stats,\n",
    "    columns=['Borough', 'Average Rating'],\n",
    "    key_on='feature.properties.boro_name',\n",
    "    fill_color='YlOrRd', \n",
    "    fill_opacity=0.7, \n",
    "    line_opacity=0.2,\n",
    "    legend_name='Average Rating'\n",
    ")\n",
    "\n",
    "# display map\n",
    "# as this is huge map data , we will save it to a file\n",
    "ny_map.save('borough_rating.html')"
   ]
  },
  {
   "cell_type": "markdown",
   "metadata": {},
   "source": [
    "# Conclusion:"
   ]
  },
  {
   "cell_type": "markdown",
   "metadata": {},
   "source": [
    "### So now we can answer the questions asked above in the Questions section of the notebook.\n",
    "### From our anaysis the answers to the above questions are:"
   ]
  },
  {
   "cell_type": "markdown",
   "metadata": {},
   "source": [
    "#### A1) Baybridge(Brooklyn), Woodlawn(Bronx), Melrose(Bronx),(Bronx) are some of the best neighborhoods for bakers.\n",
    "#### A2) Brooklyn have potential bakers.\n",
    "#### A3) Staten Island ranks last in number of bakers.\n",
    "#### A4) Bronx is the best place to stay if you prefer bakery."
   ]
  },
  {
   "cell_type": "raw",
   "metadata": {},
   "source": []
  }
 ],
 "metadata": {
  "kernelspec": {
   "display_name": "Python 3",
   "language": "python",
   "name": "python3"
  },
  "language_info": {
   "codemirror_mode": {
    "name": "ipython",
    "version": 3
   },
   "file_extension": ".py",
   "mimetype": "text/x-python",
   "name": "python",
   "nbconvert_exporter": "python",
   "pygments_lexer": "ipython3",
   "version": "3.7.6"
  }
 },
 "nbformat": 4,
 "nbformat_minor": 1
}
